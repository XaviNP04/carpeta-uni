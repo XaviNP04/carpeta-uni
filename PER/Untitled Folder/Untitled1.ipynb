{
 "cells": [
  {
   "cell_type": "code",
   "execution_count": 8,
   "id": "b2f13019",
   "metadata": {},
   "outputs": [
    {
     "name": "stdout",
     "output_type": "stream",
     "text": [
      "(63000, 784) (63000,) (7000, 784) (7000,)\n"
     ]
    }
   ],
   "source": [
    "import numpy as np; from sklearn.datasets import load_digits\n",
    "from sklearn.model_selection import train_test_split, ShuffleSplit, RandomizedSearchCV\n",
    "from sklearn.naive_bayes import GaussianNB\n",
    "X, y = fetch_openml(data_id=554, return_X_y=True, as_frame=False, parser='liac-arff'); test_size = 0.1\n",
    "X_train, X_test, y_train, y_test = train_test_split(X, y, test_size=test_size, shuffle=True, random_state=23)\n",
    "print(X_train.shape, y_train.shape, X_test.shape, y_test.shape)"
   ]
  },
  {
   "cell_type": "code",
   "execution_count": null,
   "id": "fe044fe2",
   "metadata": {},
   "outputs": [],
   "source": [
    "from scipy.stats import loguniform; import time; start = time.time()\n",
    "clf = GaussianNB(); G = {'var_smoothing': loguniform(1e-9, 1e-1)}\n",
    "splitter = ShuffleSplit(n_splits=5, test_size=0.1, random_state=23)\n",
    "RS = RandomizedSearchCV(clf, G, n_iter=1000, scoring='accuracy', n_jobs=-1, cv=splitter, pre_dispatch=32)\n",
    "acc = RS.fit(X_train, y_train).score(X_test, y_test)\n",
    "print(f\"Precisión: {acc:.2%} con {RS.best_params_['var_smoothing']:.4f}\")\n",
    "print('Tiempo (hh:mm:ss):', time.strftime('%H:%M:%S', time.gmtime(time.time() - start)))"
   ]
  },
  {
   "cell_type": "code",
   "execution_count": 1,
   "id": "9ca748f0",
   "metadata": {},
   "outputs": [],
   "source": [
    "import warnings; warnings.filterwarnings(\"ignore\"); import numpy as np\n",
    "from sklearn.datasets import fetch_openml\n",
    "from sklearn.model_selection import train_test_split\n",
    "from sklearn.linear_model import LogisticRegression\n",
    "from sklearn.metrics import accuracy_score"
   ]
  },
  {
   "cell_type": "markdown",
   "id": "1030f2bf",
   "metadata": {},
   "source": [
    "ACT 2 EXEMPLE EN DIGITS"
   ]
  },
  {
   "cell_type": "code",
   "execution_count": 5,
   "id": "3a293b24",
   "metadata": {},
   "outputs": [
    {
     "name": "stdout",
     "output_type": "stream",
     "text": [
      "(63000, 30) (63000,) (7000, 30) (7000,)\n"
     ]
    }
   ],
   "source": [
    "import numpy as np; from sklearn.datasets import load_digits\n",
    "from sklearn.model_selection import train_test_split, ShuffleSplit, RandomizedSearchCV\n",
    "from sklearn.decomposition import PCA; from sklearn.discriminant_analysis import LinearDiscriminantAnalysis\n",
    "X, y = fetch_openml(data_id=40996, return_X_y=True, as_frame=False, parser='liac-arff'); test_size = 0.1\n",
    "X_train, X_test, y_train, y_test = train_test_split(X, y, test_size=test_size, shuffle=True, random_state=23)\n",
    "K = 30; pca = PCA(n_components=K); X_train = pca.fit_transform(X_train); X_test = pca.transform(X_test)\n",
    "print(X_train.shape, y_train.shape, X_test.shape, y_test.shape)"
   ]
  },
  {
   "cell_type": "code",
   "execution_count": 4,
   "id": "81af30d3",
   "metadata": {},
   "outputs": [
    {
     "name": "stdout",
     "output_type": "stream",
     "text": [
      "Precisión: 95.00% con 0.0009\n",
      "Tiempo (hh:mm:ss): 00:00:00\n"
     ]
    }
   ],
   "source": [
    "from scipy.stats import loguniform; import time; start = time.time()\n",
    "clf = LinearDiscriminantAnalysis(); G = {'tol': loguniform(1e-9, 1e-1)}\n",
    "splitter = ShuffleSplit(n_splits=2, test_size=0.1, random_state=23)\n",
    "RS = RandomizedSearchCV(clf, G, n_iter=10, scoring='accuracy', n_jobs=-1, cv=splitter, pre_dispatch=32)\n",
    "acc = RS.fit(X_train, y_train).score(X_test, y_test)\n",
    "print(f\"Precisión: {acc:.2%} con {RS.best_params_['tol']:.4f}\")\n",
    "print('Tiempo (hh:mm:ss):', time.strftime('%H:%M:%S', time.gmtime(time.time() - start)))"
   ]
  },
  {
   "cell_type": "markdown",
   "id": "626a7bc3",
   "metadata": {},
   "source": [
    "ACT 3 DIGITS"
   ]
  },
  {
   "cell_type": "code",
   "execution_count": 5,
   "id": "67c0ed27",
   "metadata": {},
   "outputs": [
    {
     "name": "stdout",
     "output_type": "stream",
     "text": [
      "(1617, 30) (1617,) (180, 30) (180,)\n"
     ]
    }
   ],
   "source": [
    "import numpy as np; from sklearn.datasets import load_digits\n",
    "from sklearn.model_selection import train_test_split, ShuffleSplit, RandomizedSearchCV\n",
    "from sklearn.decomposition import PCA; from sklearn.discriminant_analysis import QuadraticDiscriminantAnalysis\n",
    "X, y = load_digits(return_X_y=True); X = X.astype(np.float32) / 16.0; test_size = 0.1\n",
    "X_train, X_test, y_train, y_test = train_test_split(X, y, test_size=test_size, shuffle=True, random_state=23)\n",
    "K = 30; pca = PCA(n_components=K); X_train = pca.fit_transform(X_train); X_test = pca.transform(X_test)\n",
    "print(X_train.shape, y_train.shape, X_test.shape, y_test.shape)"
   ]
  },
  {
   "cell_type": "code",
   "execution_count": 6,
   "id": "219c55d3",
   "metadata": {},
   "outputs": [
    {
     "name": "stdout",
     "output_type": "stream",
     "text": [
      "Precisión: 98.89% con 0.0133\n",
      "Tiempo (hh:mm:ss): 00:00:00\n"
     ]
    }
   ],
   "source": [
    "from scipy.stats import loguniform; import time; start = time.time()\n",
    "clf = QuadraticDiscriminantAnalysis(); G = {'reg_param': loguniform(1e-9, 1e-1)}\n",
    "splitter = ShuffleSplit(n_splits=2, test_size=0.1, random_state=23)\n",
    "RS = RandomizedSearchCV(clf, G, n_iter=10, scoring='accuracy', n_jobs=-1, cv=splitter, pre_dispatch=32)\n",
    "acc = RS.fit(X_train, y_train).score(X_test, y_test)\n",
    "print(f\"Precisión: {acc:.2%} con {RS.best_params_['reg_param']:.4f}\")\n",
    "print('Tiempo (hh:mm:ss):', time.strftime('%H:%M:%S', time.gmtime(time.time() - start)))"
   ]
  },
  {
   "cell_type": "code",
   "execution_count": null,
   "id": "e7564602",
   "metadata": {},
   "outputs": [],
   "source": []
  }
 ],
 "metadata": {
  "kernelspec": {
   "display_name": "Python 3 (ipykernel)",
   "language": "python",
   "name": "python3"
  },
  "language_info": {
   "codemirror_mode": {
    "name": "ipython",
    "version": 3
   },
   "file_extension": ".py",
   "mimetype": "text/x-python",
   "name": "python",
   "nbconvert_exporter": "python",
   "pygments_lexer": "ipython3",
   "version": "3.12.3"
  }
 },
 "nbformat": 4,
 "nbformat_minor": 5
}
