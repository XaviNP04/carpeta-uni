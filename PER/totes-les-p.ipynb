{
 "cells": [
  {
   "cell_type": "markdown",
   "id": "79fa7cbb",
   "metadata": {},
   "source": [
    "# PRACTICA 1"
   ]
  },
  {
   "cell_type": "markdown",
   "id": "0fa728ba",
   "metadata": {},
   "source": [
    "## SCIKIT-LEARN\n",
    "Librería de aprendizaje automático (clásico) basada en numpy, scipy y matplotlib.\n",
    "\n",
    "**Iris**: *C=3* (setosa, versicolor y virgínica), *N=150* ( 50 por clase), *D=4*(longitud y amplitud de pétalos y sépalos)"
   ]
  },
  {
   "cell_type": "code",
   "execution_count": 6,
   "id": "7d167531",
   "metadata": {},
   "outputs": [
    {
     "name": "stdout",
     "output_type": "stream",
     "text": [
      "(120, 4) (120,) (30, 4) (30,)\n"
     ]
    }
   ],
   "source": [
    "import warnings; warnings.filterwarnings(\"ignore\")\n",
    "from sklearn.datasets import load_iris\n",
    "from sklearn.model_selection import train_test_split\n",
    "X, y = load_iris(return_X_y=True) #carrega la base de dades\n",
    "X_train, X_test, y_train, y_test = train_test_split(X, y, test_size=0.2, shuffle=True, random_state=23)\n",
    "print(X_train.shape, y_train.shape, X_test.shape, y_test.shape)"
   ]
  },
  {
   "cell_type": "markdown",
   "id": "0873bcbb",
   "metadata": {},
   "source": [
    "**RECRESIÓN LOGISTICA APLICADA A IRSI:**"
   ]
  },
  {
   "cell_type": "code",
   "execution_count": 5,
   "id": "e520139c",
   "metadata": {},
   "outputs": [
    {
     "name": "stdout",
     "output_type": "stream",
     "text": [
      "Precisión: 100.0%\n"
     ]
    }
   ],
   "source": [
    "from sklearn.linear_model import LogisticRegression\n",
    "from sklearn.metrics import accuracy_score\n",
    "clf = LogisticRegression(random_state=23).fit(X_train, y_train)\n",
    "acc = accuracy_score(y_test, clf.predict(X_test))\n",
    "print(f'Precisión: {acc:.1%}')"
   ]
  },
  {
   "cell_type": "markdown",
   "id": "6c2da014",
   "metadata": {},
   "source": [
    "**Digits:** *C=10* (digitos manuscritos), *N=1797*, *D=64* grises en {0, 1, … , 16} de imágenes 8x8"
   ]
  },
  {
   "cell_type": "code",
   "execution_count": 7,
   "id": "25846c8b",
   "metadata": {},
   "outputs": [
    {
     "name": "stdout",
     "output_type": "stream",
     "text": [
      "(1437, 64) (1437,) (360, 64) (360,)\n",
      "Precisión: 96.9%\n"
     ]
    }
   ],
   "source": [
    "from sklearn.datasets import load_digits\n",
    "X, y = load_digits(return_X_y=True); X /= 16.0\n",
    "X_train, X_test, y_train, y_test = train_test_split(X, y, test_size=0.2, shuffle=True, random_state=23)\n",
    "print(X_train.shape, y_train.shape, X_test.shape, y_test.shape)\n",
    "clf = LogisticRegression(random_state=23).fit(X_train, y_train)\n",
    "acc = accuracy_score(y_test, clf.predict(X_test))\n",
    "print(f'Precisión: {acc:.1%}')"
   ]
  },
  {
   "cell_type": "markdown",
   "id": "dee71f38",
   "metadata": {},
   "source": [
    "**Olivetti:** *C=40* (caras), *N=400* (10 por persona), *D=4096* grises en [0,1] de imágenes 64x64"
   ]
  },
  {
   "cell_type": "code",
   "execution_count": 8,
   "id": "23f3db93",
   "metadata": {},
   "outputs": [
    {
     "name": "stdout",
     "output_type": "stream",
     "text": [
      "(320, 4096) (320,) (80, 4096) (80,)\n",
      "Precisión: 100.0%\n"
     ]
    }
   ],
   "source": [
    "from sklearn.datasets import fetch_olivetti_faces\n",
    "X, y = fetch_olivetti_faces(return_X_y=True)\n",
    "X_train, X_test, y_train, y_test = train_test_split(X, y, test_size=0.2, shuffle=True, random_state=23)\n",
    "print(X_train.shape, y_train.shape, X_test.shape, y_test.shape)\n",
    "clf = LogisticRegression(random_state=23).fit(X_train, y_train)\n",
    "acc = accuracy_score(y_test, clf.predict(X_test))\n",
    "print(f'Precisión: {acc:.1%}')"
   ]
  },
  {
   "cell_type": "markdown",
   "id": "870c6700",
   "metadata": {},
   "source": [
    "**20newsgroups vectorizado:** *C = 20* (grupos de notícias) *N = 18846*, *D = 130107*"
   ]
  },
  {
   "cell_type": "code",
   "execution_count": 9,
   "id": "a4e1398d",
   "metadata": {},
   "outputs": [
    {
     "name": "stdout",
     "output_type": "stream",
     "text": [
      "(11314, 101631) (11314,) (7532, 101631) (7532,)\n",
      "Precisión: 56.0%\n"
     ]
    }
   ],
   "source": [
    "from sklearn.datasets import fetch_20newsgroups_vectorized\n",
    "X_train, y_train = fetch_20newsgroups_vectorized(\n",
    "subset='train', remove=('headers', 'footers', 'quotes'), return_X_y=True)\n",
    "X_test, y_test = fetch_20newsgroups_vectorized(\n",
    "subset='test', remove=('headers', 'footers', 'quotes'), return_X_y=True)\n",
    "print(X_train.shape, y_train.shape, X_test.shape, y_test.shape)\n",
    "clf = LogisticRegression(random_state=23).fit(X_train, y_train)\n",
    "acc = accuracy_score(y_test, clf.predict(X_test))\n",
    "print(f'Precisión: {acc:.1%}')"
   ]
  },
  {
   "cell_type": "markdown",
   "id": "c9deef7f",
   "metadata": {},
   "source": [
    "## OPENML"
   ]
  },
  {
   "cell_type": "markdown",
   "id": "24901256",
   "metadata": {},
   "source": [
    "**openml:** plataforma de aprendizaje automático para compartir datos, algoritmos y experimentos\n",
    "\n",
    "Conceptos principales:\n",
    "\n",
    "- Dataset: conjunto de datos tabulados\n",
    "- Task: conjunto de datos, tarea de aprendizaje a realizar y método de evaluación\n",
    "- Flow: pipeline de aprendizaje automático con detalles sobre software a utilizar e hiperparámetros a ajustar\n",
    "- Run: experimento de evaluación de un flow en una tarea\n",
    "\n",
    "**Descarga de un dataset:** elegimos id en la sección datasets de openml.org y usamos fetch_openml de scikit-learn"
   ]
  },
  {
   "cell_type": "code",
   "execution_count": 10,
   "id": "39dc4306",
   "metadata": {},
   "outputs": [],
   "source": [
    "import warnings; warnings.filterwarnings(\"ignore\"); import numpy as np\n",
    "from sklearn.datasets import fetch_openml\n",
    "from sklearn.model_selection import train_test_split\n",
    "from sklearn.linear_model import LogisticRegression\n",
    "from sklearn.metrics import accuracy_score"
   ]
  },
  {
   "cell_type": "markdown",
   "id": "b80876cd",
   "metadata": {},
   "source": [
    "**MNIST:** *C=10* (dígitos manuscritos), *N=70000*, *D=784* en {0, 1, … , 255} de imágenes 28x28"
   ]
  },
  {
   "cell_type": "code",
   "execution_count": 11,
   "id": "8b7208bd",
   "metadata": {},
   "outputs": [
    {
     "name": "stdout",
     "output_type": "stream",
     "text": [
      "(60000, 784) (60000,) (10000, 784) (10000,)\n",
      "Precisión: 92.57%\n"
     ]
    }
   ],
   "source": [
    "X, y = fetch_openml(data_id=554, return_X_y=True, as_frame=False, parser='liac-arff'); X /= 255.0\n",
    "X_train, X_test, y_train, y_test = train_test_split(X, y, test_size=10000, shuffle=False)\n",
    "print(X_train.shape, y_train.shape, X_test.shape, y_test.shape)\n",
    "clf = LogisticRegression(random_state=23).fit(X_train, y_train)\n",
    "acc = accuracy_score(y_test, clf.predict(X_test))\n",
    "print(f'Precisión: {acc:.2%}')"
   ]
  },
  {
   "cell_type": "markdown",
   "id": "54be31c9",
   "metadata": {},
   "source": [
    "**Fashion-MNIST**"
   ]
  },
  {
   "cell_type": "code",
   "execution_count": 12,
   "id": "a1dcbcc9",
   "metadata": {},
   "outputs": [
    {
     "name": "stdout",
     "output_type": "stream",
     "text": [
      "(60000, 784) (60000,) (10000, 784) (10000,)\n",
      "Precisión: 84.39%\n"
     ]
    }
   ],
   "source": [
    "X, y = fetch_openml(data_id=40996, return_X_y=True, as_frame=False, parser='liac-arff'); X /= 255.0\n",
    "X_train, X_test, y_train, y_test = train_test_split(X, y, test_size=10000, shuffle=False)\n",
    "print(X_train.shape, y_train.shape, X_test.shape, y_test.shape)\n",
    "clf = LogisticRegression(random_state=23).fit(X_train, y_train)\n",
    "acc = accuracy_score(y_test, clf.predict(X_test))\n",
    "print(f'Precisión: {acc:.2%}')"
   ]
  },
  {
   "cell_type": "markdown",
   "id": "b7bc2dad",
   "metadata": {},
   "source": [
    "**CIFAR-10:**"
   ]
  },
  {
   "cell_type": "code",
   "execution_count": 13,
   "id": "ee8550e0",
   "metadata": {},
   "outputs": [
    {
     "name": "stdout",
     "output_type": "stream",
     "text": [
      "(50000, 3072) (50000,) (10000, 3072) (10000,)\n",
      "Precisión: 40.63%\n"
     ]
    }
   ],
   "source": [
    "X, y = fetch_openml(data_id=40927, return_X_y=True, as_frame=False, parser='liac-arff'); X /= 255.0\n",
    "X_train, X_test, y_train, y_test = train_test_split(X, y, test_size=10000, shuffle=False)\n",
    "print(X_train.shape, y_train.shape, X_test.shape, y_test.shape)\n",
    "clf = LogisticRegression(random_state=23).fit(X_train, y_train)\n",
    "acc = accuracy_score(y_test, clf.predict(X_test))\n",
    "print(f'Precisión: {acc:.2%}')"
   ]
  },
  {
   "cell_type": "code",
   "execution_count": null,
   "id": "fbd4a1fc",
   "metadata": {},
   "outputs": [],
   "source": []
  }
 ],
 "metadata": {
  "kernelspec": {
   "display_name": "Python 3 (ipykernel)",
   "language": "python",
   "name": "python3"
  },
  "language_info": {
   "codemirror_mode": {
    "name": "ipython",
    "version": 3
   },
   "file_extension": ".py",
   "mimetype": "text/x-python",
   "name": "python",
   "nbconvert_exporter": "python",
   "pygments_lexer": "ipython3",
   "version": "3.12.3"
  }
 },
 "nbformat": 4,
 "nbformat_minor": 5
}
