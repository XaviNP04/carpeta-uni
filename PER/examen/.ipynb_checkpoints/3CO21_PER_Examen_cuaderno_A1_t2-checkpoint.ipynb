{
 "cells": [
  {
   "cell_type": "markdown",
   "metadata": {},
   "source": [
    "## PER2425, grupo de laboratorio L1-3CO21\n",
    "## A1. Prueba práctica de laboratorio de B1 (cuaderno) (1.25 puntos)\n",
    "## 1 de abril de 2025"
   ]
  },
  {
   "cell_type": "markdown",
   "metadata": {},
   "source": [
    "**Ejercicio:** $\\;$ A lo largo de las sesiones de laboratorio, se ha llegado a alcanzar con el clasificador LDA un acierto del 87.3% en la tarea de MNIST. Con el objetivo de **intentar** mejorar esta tasa de acierto, completa el siguiente cuaderno para realizar un experimento con LDA en el que se varíe la dimensionalidad de los datos mediante PCA, y se haga una exploración del hiperparámetro de suavizado de varianzas `tol`. Completa la variable dni con las tres últimas cifras de tu DNI sin letra para ser usada como semilla de inicialización en la exploración del hiperparámetro. Tras realizar el experimento, comenta cuáles són los valores óptimos (`K` y `tol`) que has obtenido."
   ]
  },
  {
   "cell_type": "code",
   "execution_count": 2,
   "metadata": {},
   "outputs": [],
   "source": [
    "import warnings; warnings.filterwarnings(\"ignore\")\n",
    "import numpy as np\n",
    "from sklearn.datasets import fetch_openml\n",
    "from sklearn.model_selection import train_test_split, ShuffleSplit, RandomizedSearchCV\n",
    "from sklearn.decomposition import PCA\n",
    "from sklearn.discriminant_analysis import LinearDiscriminantAnalysis\n",
    "from scipy.stats import loguniform;"
   ]
  },
  {
   "cell_type": "code",
   "execution_count": 3,
   "metadata": {},
   "outputs": [],
   "source": [
    "dni=686 # Completar"
   ]
  },
  {
   "cell_type": "code",
   "execution_count": 12,
   "metadata": {},
   "outputs": [],
   "source": [
    "X, y = fetch_openml(data_id=554, return_X_y=True, as_frame=False, parser='liac-arff'); X /= 255.0\n",
    "X_train, X_test, y_train, y_test = train_test_split(X, y, test_size=10000, shuffle=False)"
   ]
  },
  {
   "cell_type": "code",
   "execution_count": 19,
   "metadata": {},
   "outputs": [
    {
     "name": "stdout",
     "output_type": "stream",
     "text": [
      "Precisión: 87.45% con {'tol': 1e-08} y K = 100\n",
      "Precisión: 87.45% con {'tol': 1e-08} y K = 80\n",
      "Precisión: 87.45% con {'tol': 1e-08} y K = 50\n",
      "Tiempo (hh:mm:ss): 00:00:44\n"
     ]
    }
   ],
   "source": [
    "import time; start = time.time()\n",
    "max_K = np.min(X_train.shape); pca = PCA(n_components=max_K).fit(X_train)\n",
    "X_train = pca.transform(X_train); X_test = pca.transform(X_test) # Completar\n",
    "Ks = np.array([50,80,100]) # Completar\n",
    "\n",
    "clf = LinearDiscriminantAnalysis(); G = {'tol': loguniform(1e-9, 1e-1)}  # Completar\n",
    "splitter = ShuffleSplit(n_splits=1, test_size=0.1, random_state=dni)\n",
    "RS = RandomizedSearchCV(clf, G, n_iter=3, scoring='accuracy', n_jobs=1, cv=splitter, pre_dispatch=32, random_state=dni)\n",
    "for _, k in enumerate(reversed(np.sort(Ks))):\n",
    "    Z_train = X_train[:,:k]\n",
    "    Z_test = X_test[:,:k]\n",
    "    acc = RS.fit(X_train,y_train).score(X_test, y_test) # Completar\n",
    "    print(f'Precisión: {acc:.2%} con {RS.best_params_} y K = {k}')\n",
    "print('Tiempo (hh:mm:ss):', time.strftime('%H:%M:%S', time.gmtime(time.time() - start)))"
   ]
  },
  {
   "cell_type": "markdown",
   "metadata": {},
   "source": [
    "A partir de los resultados obtenidos, ¿Qué combinación del valor de K y el valor del hiperparámetro `tol` eligirías?"
   ]
  },
  {
   "cell_type": "markdown",
   "metadata": {},
   "source": [
    "Respuesta: EL valor que elegiria de k seria 80"
   ]
  },
  {
   "cell_type": "markdown",
   "metadata": {},
   "source": [
    "\n",
    "<p style=\"page-break-after:always;\"></p>\n"
   ]
  }
 ],
 "metadata": {
  "kernelspec": {
   "display_name": "Python 3 (ipykernel)",
   "language": "python",
   "name": "python3"
  },
  "language_info": {
   "codemirror_mode": {
    "name": "ipython",
    "version": 3
   },
   "file_extension": ".py",
   "mimetype": "text/x-python",
   "name": "python",
   "nbconvert_exporter": "python",
   "pygments_lexer": "ipython3",
   "version": "3.12.3"
  }
 },
 "nbformat": 4,
 "nbformat_minor": 2
}
