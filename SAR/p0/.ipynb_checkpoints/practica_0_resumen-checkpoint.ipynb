{
 "cells": [
  {
   "cell_type": "markdown",
   "metadata": {},
   "source": [
    "## Práctica 0: Introducción a Python\n",
    "### Sistemas de Almacenamiento y Recuperación de Información (SAR)"
   ]
  },
  {
   "cell_type": "markdown",
   "metadata": {},
   "source": [
    "## 1. Aspectos Generales"
   ]
  },
  {
   "cell_type": "markdown",
   "metadata": {},
   "source": [
    "### 1.1. ¿Por qué Python?\n",
    "\n",
    "* Proyecto de código abierto, administrado por la Python Software Foundation. A efectos prácticos, es relevante saber que es de uso gratuito.\n",
    "\n",
    "* Utilizado por muchas empresas (ver https://www.python.org/about/success ):\n",
    "\n",
    "    * Google\n",
    "    * Meta\n",
    "    * Amazon\n",
    "    * NASA\n",
    "    * OpenAI\n",
    "    * Blizzard\n",
    "    * ...\n",
    "\n",
    "* Multiplataforma (se puede ejecutar en Unix, Linux, Windows, OSX, ...)\n",
    "\n",
    "* Multiparadigma:\n",
    "\n",
    "    * Estructurado (if/else, while, for...)\n",
    "    * Procedural (funciones con posibles efectos laterales...)\n",
    "    * Orientado a objetos (todo en Python son objetos)\n",
    "    * Características de lenguajes funcionales (orden superior, listas intensionales,...).\n",
    "\n",
    "* Interactivo que, junto a ser interpretado, proporciona un entorno de trabajo relativamente más ágil que cuando has de compilar:\n",
    "\n",
    "    ```python\n",
    "    >>> 4+2\n",
    "    6\n",
    "    >>> 4*2\n",
    "    8\n",
    "    >>> 4**2\n",
    "    16\n",
    "    >>> \"4+2\"\n",
    "    '4+2'\n",
    "    >>> \n",
    "    ```\n",
    "* Sintaxis relativamente sencilla y minimalista (no hay separadores de sentencias y los bloques se delimitan utilizando la indentación/tabulación)."
   ]
  },
  {
   "cell_type": "markdown",
   "metadata": {},
   "source": [
    "### 1.2. Diferencias con Java o C/C++\n",
    "\n",
    "* **Tipado dinámico:** Dentro de un mismo contexto, una variable puede albergar primero un entero en un punto de la ejecución y más adelante una cadena.\n",
    "    ```python\n",
    "    >>> a = 2\n",
    "    >>> b = 4\n",
    "    >>> print(2*4)\n",
    "    8\n",
    "    >>> a = 'Hello World'\n",
    "    >>> b = '!'\n",
    "    >>> print(a + b)\n",
    "    'Hello World!'\n",
    "    ```\n",
    "\n",
    "* **Definición del bloque:** En Java o C/C++ el bloque se define con `{}`, en Python se usa indentación (**espacios** o tabulaciones)\n",
    "    ```python\n",
    "    ok = False\n",
    "\n",
    "    if ok:\n",
    "        print(\"Ok!\")\n",
    "    else:\n",
    "        print(\"Not Ok\")\n",
    "\n",
    "        \n",
    "    ```\n",
    "\n",
    "\n",
    "* **Ejemplo de código:**\n",
    "\n",
    "    ```c\n",
    "    // En C\n",
    "    #include <stdio.h>\n",
    "\n",
    "    void hello_world(int times) {\n",
    "        for(int i=0; i < times; i++) {\n",
    "            printf(\"%d - Hello World!\\n\", i);\n",
    "        }\n",
    "    }\n",
    "    ```\n",
    "    ```\n",
    "    ----------------------------------------\n",
    "    ```\n",
    "\n",
    "    ```python\n",
    "    # En Python\n",
    "    def hello_world(times):\n",
    "        for i in range(times):\n",
    "            print(f\"{i} - Hello World!\")"
   ]
  },
  {
   "cell_type": "markdown",
   "metadata": {
    "vscode": {
     "languageId": "plaintext"
    }
   },
   "source": [
    "## 2 Comentarios"
   ]
  },
  {
   "cell_type": "markdown",
   "metadata": {},
   "source": [
    "Comentario en una sola línea"
   ]
  },
  {
   "cell_type": "code",
   "execution_count": 2,
   "metadata": {},
   "outputs": [
    {
     "name": "stdout",
     "output_type": "stream",
     "text": [
      "Hello world!\n"
     ]
    }
   ],
   "source": [
    "# Este es un comentario en una línea\n",
    "print('Hello world!') # Muestra por salida estándar \"Hello World!\""
   ]
  },
  {
   "cell_type": "markdown",
   "metadata": {},
   "source": [
    "Comentario de varias líneas"
   ]
  },
  {
   "cell_type": "code",
   "execution_count": 4,
   "metadata": {},
   "outputs": [
    {
     "name": "stdout",
     "output_type": "stream",
     "text": [
      "Hello world!\n"
     ]
    }
   ],
   "source": [
    "\"\"\"\n",
    "Esto es un comentario de varias líneas.\n",
    "\n",
    "Podemos poner tantas líneas como queramos.\n",
    "\n",
    "Como antes, imprimimos \"Hello World!\" por salida estándar.\n",
    "\"\"\"\n",
    "print('Hello world!')"
   ]
  },
  {
   "cell_type": "markdown",
   "metadata": {},
   "source": [
    "## 3. Literales, Variables, Tipos básicos, Secuencias y Cadenas"
   ]
  },
  {
   "cell_type": "markdown",
   "metadata": {},
   "source": [
    "### 3.1. Literales\n",
    "Los valores concretos en el código fuente se llaman **literales**. \n",
    "\n",
    "- Ejemplos de literal para valores enteros o de tipo `int`:\n",
    "    - `2`\n",
    "    - `0xFF` (formato **hexadecimal** o base 16 con cifras 0,1,...,9,A,B,C,D,E,F)\n",
    "    - `0b11011` (formato **binario**)\n",
    "    - `0o100` (formato **octal**)\n",
    "- Ejemplos de literal para cadenas de texto:\n",
    "    - `'hola'`\n",
    "    - `\"hola\"`\n",
    "    - `\"\"\"hola\"\"\"`\n",
    "    - `r\"hola\"`"
   ]
  },
  {
   "cell_type": "markdown",
   "metadata": {},
   "source": [
    "### 3.2. Identificadores de variables\n",
    "\n",
    "El nombre de las variables pueden contener caracteres alfanuméricos, no obstante, no puede comenzar por número:\n",
    "\n",
    "- `abc`: es una variable válida\n",
    "- `abc2`: es una variable válida\n",
    "- `2abc`: **NO** es una variable válida\n",
    "\n",
    "Existen palabras reservadas que no pueden ser usadas:\n",
    "\n",
    "```python\n",
    "    False, None, True, and, as, assert, break, class, continue, def, del, elif,\n",
    "    else, except, finally, for, from, global, if, import, in, is, lambda,\n",
    "    nonlocal, not, or, pass, raise, return, try, while, with, yield\n",
    "```"
   ]
  },
  {
   "cell_type": "markdown",
   "metadata": {},
   "source": [
    "### 3.3. Definición e inicialización de variables"
   ]
  },
  {
   "cell_type": "code",
   "execution_count": 1,
   "metadata": {},
   "outputs": [
    {
     "name": "stdout",
     "output_type": "stream",
     "text": [
      "5 6\n"
     ]
    }
   ],
   "source": [
    "# Esto es una asignación simple\n",
    "a = 5\n",
    "b = 6\n",
    "print(a, b)"
   ]
  },
  {
   "cell_type": "markdown",
   "metadata": {},
   "source": [
    "- **_Unpacking_ en Python**\n",
    "\n",
    "    El _unpacking_ (desempaquetado) permite extraer los valores de una secuencia (listas, por ejemplo) y asignarlos a variables individuales."
   ]
  },
  {
   "cell_type": "code",
   "execution_count": 48,
   "metadata": {},
   "outputs": [
    {
     "name": "stdout",
     "output_type": "stream",
     "text": [
      "2 3\n"
     ]
    }
   ],
   "source": [
    "# La lista de dos elementos la desempaquetamos,\n",
    "# asignando cada elemento posicionalmente.\n",
    "#\n",
    "# IMPORTANTE: el número de variables y elementos debe coincidir\n",
    "a, b = [2, 3]\n",
    "print(a, b)"
   ]
  },
  {
   "cell_type": "code",
   "execution_count": 49,
   "metadata": {},
   "outputs": [
    {
     "name": "stdout",
     "output_type": "stream",
     "text": [
      "2 3\n"
     ]
    }
   ],
   "source": [
    "# Una asignación multivariable\n",
    "a, b = 2, 3\n",
    "print(a, b)"
   ]
  },
  {
   "cell_type": "code",
   "execution_count": 51,
   "metadata": {},
   "outputs": [
    {
     "name": "stdout",
     "output_type": "stream",
     "text": [
      "3 2\n"
     ]
    }
   ],
   "source": [
    "a, b = 2, 3\n",
    "# ¡Intercambiamos los valores sin variable auxiliar!\n",
    "b, a = a, b\n",
    "print(a, b)"
   ]
  },
  {
   "cell_type": "markdown",
   "metadata": {},
   "source": [
    "### 3.4. Tipos básicos"
   ]
  },
  {
   "cell_type": "markdown",
   "metadata": {},
   "source": [
    "- `int`: Número entero\n",
    "- `float`: Número real\n",
    "- `str`: Cadena\n",
    "- `bool`: `True` o `False`\n",
    "- `None`: Objeto nulo"
   ]
  },
  {
   "cell_type": "markdown",
   "metadata": {},
   "source": [
    "### 3.5. Conversión de tipos\n",
    "\n",
    "Por lo general, Python soporta conversión entre algunos tipos básicos"
   ]
  },
  {
   "cell_type": "code",
   "execution_count": 23,
   "metadata": {},
   "outputs": [
    {
     "data": {
      "text/plain": [
       "-33"
      ]
     },
     "execution_count": 23,
     "metadata": {},
     "output_type": "execute_result"
    }
   ],
   "source": [
    "# Convertir una cadena que representa un entero a `int`\n",
    "int('-33')"
   ]
  },
  {
   "cell_type": "code",
   "execution_count": 24,
   "metadata": {},
   "outputs": [
    {
     "data": {
      "text/plain": [
       "-33.3"
      ]
     },
     "execution_count": 24,
     "metadata": {},
     "output_type": "execute_result"
    }
   ],
   "source": [
    "# Convertir una cadena que representa un número a `float`\n",
    "float('-33.3')"
   ]
  },
  {
   "cell_type": "code",
   "execution_count": 25,
   "metadata": {},
   "outputs": [
    {
     "data": {
      "text/plain": [
       "'12345'"
      ]
     },
     "execution_count": 25,
     "metadata": {},
     "output_type": "execute_result"
    }
   ],
   "source": [
    "# Un número a cadena\n",
    "str(12345)"
   ]
  },
  {
   "cell_type": "markdown",
   "metadata": {},
   "source": [
    "### 3.6. Tipado dinámico\n",
    "\n",
    "Python es un lenguaje dinámicamente tipado, por lo que el tipo de las variables puede ir cambiando a lo largo de la ejecución"
   ]
  },
  {
   "cell_type": "code",
   "execution_count": 10,
   "metadata": {},
   "outputs": [
    {
     "name": "stdout",
     "output_type": "stream",
     "text": [
      "<class 'int'>\n",
      "<class 'str'>\n"
     ]
    }
   ],
   "source": [
    "a = 3\n",
    "print(type(a))\n",
    "\n",
    "a = \"3\"\n",
    "print(type(a))"
   ]
  },
  {
   "cell_type": "markdown",
   "metadata": {},
   "source": [
    "### 3.7. Mutable e Inmutable\n",
    "\n",
    "En Python, los objetos mutables pueden ser modificados después de su creación, mientras que los objetos inmutables no pueden cambiar una vez creados."
   ]
  },
  {
   "cell_type": "markdown",
   "metadata": {},
   "source": [
    "1. **Objetos Mutables:** Pueden cambiar su contenido a lo largo de la ejecución sin cambiar la referencia de memoria.\n",
    "    - Pueden modificarse sin cambiar su referencia en memoria.\n",
    "    - Algunos tipos: `list`, `set`, `dict`."
   ]
  },
  {
   "cell_type": "code",
   "execution_count": 40,
   "metadata": {},
   "outputs": [
    {
     "name": "stdout",
     "output_type": "stream",
     "text": [
      "posición de memoria de a = 2208810321664\n",
      "[-1, 2, 3, 1]\n",
      "posición de memoria de a = 2208810321664\n"
     ]
    }
   ],
   "source": [
    "a = [1,2,3]\n",
    "print(f\"posición de memoria de a = {id(a)}\")\n",
    "\n",
    "a[0] = -1\n",
    "a.append(1)\n",
    "print(a)\n",
    "print(f\"posición de memoria de a = {id(a)}\")"
   ]
  },
  {
   "cell_type": "markdown",
   "metadata": {},
   "source": [
    "2. **Objetos Inmutables:** Su contenido permanece inalterable y no pueden hacerse cambios sobre ese objeto en memoria.\n",
    "    - No pueden modificarse después de su creación.\n",
    "    - Ejemplos: `str`, `tuple`, `int`, `float`."
   ]
  },
  {
   "cell_type": "code",
   "execution_count": 41,
   "metadata": {},
   "outputs": [
    {
     "ename": "TypeError",
     "evalue": "'tuple' object does not support item assignment",
     "output_type": "error",
     "traceback": [
      "\u001b[1;31m---------------------------------------------------------------------------\u001b[0m",
      "\u001b[1;31mTypeError\u001b[0m                                 Traceback (most recent call last)",
      "Cell \u001b[1;32mIn[41], line 2\u001b[0m\n\u001b[0;32m      1\u001b[0m a \u001b[38;5;241m=\u001b[39m (\u001b[38;5;241m1\u001b[39m,\u001b[38;5;241m2\u001b[39m,\u001b[38;5;241m3\u001b[39m)\n\u001b[1;32m----> 2\u001b[0m \u001b[43ma\u001b[49m\u001b[43m[\u001b[49m\u001b[38;5;241;43m0\u001b[39;49m\u001b[43m]\u001b[49m \u001b[38;5;241m=\u001b[39m \u001b[38;5;241m-\u001b[39m\u001b[38;5;241m1\u001b[39m\n",
      "\u001b[1;31mTypeError\u001b[0m: 'tuple' object does not support item assignment"
     ]
    }
   ],
   "source": [
    "a = (1,2,3)\n",
    "a[0] = -1"
   ]
  },
  {
   "cell_type": "code",
   "execution_count": 42,
   "metadata": {},
   "outputs": [
    {
     "ename": "TypeError",
     "evalue": "'str' object does not support item assignment",
     "output_type": "error",
     "traceback": [
      "\u001b[1;31m---------------------------------------------------------------------------\u001b[0m",
      "\u001b[1;31mTypeError\u001b[0m                                 Traceback (most recent call last)",
      "Cell \u001b[1;32mIn[42], line 2\u001b[0m\n\u001b[0;32m      1\u001b[0m a \u001b[38;5;241m=\u001b[39m \u001b[38;5;124m\"\u001b[39m\u001b[38;5;124mabc\u001b[39m\u001b[38;5;124m\"\u001b[39m\n\u001b[1;32m----> 2\u001b[0m \u001b[43ma\u001b[49m\u001b[43m[\u001b[49m\u001b[38;5;241;43m0\u001b[39;49m\u001b[43m]\u001b[49m \u001b[38;5;241m=\u001b[39m \u001b[38;5;124m\"\u001b[39m\u001b[38;5;124md\u001b[39m\u001b[38;5;124m\"\u001b[39m\n",
      "\u001b[1;31mTypeError\u001b[0m: 'str' object does not support item assignment"
     ]
    }
   ],
   "source": [
    "a = \"abc\"\n",
    "a[0] = \"d\""
   ]
  },
  {
   "cell_type": "markdown",
   "metadata": {},
   "source": [
    "### 3.8. Las Secuencias\n",
    "\n",
    "Una **secuencia** es una estructura de datos que:\n",
    "- **Ordenada** → Los elementos tienen una posición fija.\n",
    "- **Indexable**  → Se accede a los elementos mediante índices, como `s[0]`.\n",
    "- **Iterable**  → Se puede recorrer con `for`.\n",
    "- **Slicing**  → Devuelve una porción de la secuencia (`s[1:4]`).\n",
    "\n",
    "**Tipos de secuencias en Python**\n",
    "\n",
    "| Tipo      | Descripción | Ejemplo |\n",
    "|-----------|------------|---------|\n",
    "| **`str`** | **Cadenas de texto** (inmutables) | `\"Hola\"[1]  # 'o'` |\n",
    "| **`list`** | **Listas** (mutables) | `[1, 2, 3][0]  # 1` |\n",
    "| **`tuple`** | **Tuplas** (inmutables) | `(4, 5, 6)[2]  # 6` |\n",
    "| **`range`** | **Secuencias de números** | `range(0, 5)[2]  # 2` |\n",
    "\n",
    "```\n",
    "```\n",
    "> **Nota:** Aunque `set` y `dict` almacenan elementos y son iterables, **NO son secuencias** porque **no tienen orden, ni permiten acceso por índice, ni hacer _slicing_**."
   ]
  },
  {
   "cell_type": "markdown",
   "metadata": {},
   "source": [
    "### 3.9. Cadenas\n",
    "\n",
    "**Características**  \n",
    "- **Inmutable** → No se puede modificar después de su creación.  \n",
    "- **Indexable** → Se accede a los caracteres con `cadena[i]`.  \n",
    "- **Soporta slicing** → Se pueden extraer partes con `cadena[inicio:fin:paso]`.  \n",
    "- **Iterable** → Se puede recorrer con `for`.  \n",
    "- **Admite formateo** → Compatible con `f-strings`, `.format()` y `%`.  \n",
    "- **Métodos incorporados** → Gran variedad de métodos para manipulación de texto.  \n",
    "\n",
    "**Métodos Básicos**  \n",
    "\n",
    "- **Manipulación de Texto**  \n",
    "\n",
    "| Método | Descripción | Ejemplo |\n",
    "|--------|------------|---------|\n",
    "| `lower()` | Convierte a minúsculas | `\"Hola\".lower()` ➝ `\"hola\"` |\n",
    "| `upper()` | Convierte a mayúsculas | `\"hola\".upper()` ➝ `\"HOLA\"` |\n",
    "| `capitalize()` | Primera letra en mayúscula | `\"python\".capitalize()` ➝ `\"Python\"` |\n",
    "| `title()` | Capitaliza cada palabra | `\"hola mundo\".title()` ➝ `\"Hola Mundo\"` |\n",
    "| `swapcase()` | Invierte mayúsculas y minúsculas | `\"PyThOn\".swapcase()` ➝ `\"pYtHoN\"` |\n",
    "\n",
    "- **Búsqueda y Reemplazo**  \n",
    "\n",
    "| Método | Descripción | Ejemplo |\n",
    "|--------|------------|---------|\n",
    "| `find(sub)` | Retorna el índice de `sub` o `-1` si no está | `\"Python\".find(\"y\")` ➝ `1` |\n",
    "| `index(sub)` | Igual a `find()`, pero lanza error si no existe | `\"Python\".index(\"y\")` ➝ `1` |\n",
    "| `replace(old, new)` | Reemplaza `old` por `new` | `\"Hola mundo\".replace(\"Hola\", \"Adiós\")` ➝ `\"Adiós mundo\"` |\n",
    "| `count(sub)` | Cuenta las apariciones de `sub` | `\"banana\".count(\"a\")` ➝ `3` |\n",
    "\n",
    "- **Comprobación de Contenido**  \n",
    "\n",
    "| Método | Descripción | Ejemplo |\n",
    "|--------|------------|---------|\n",
    "| `startswith(sub)` | Verifica si empieza con `sub` | `\"Python\".startswith(\"Py\")` ➝ `True` |\n",
    "| `endswith(sub)` | Verifica si termina con `sub` | `\"Python\".endswith(\"on\")` ➝ `True` |\n",
    "| `isalnum()` | Verifica si es alfanumérico | `\"Python3\".isalnum()` ➝ `True` |\n",
    "| `isalpha()` | Verifica si solo contiene letras | `\"Python\".isalpha()` ➝ `True` |\n",
    "| `isdigit()` | Verifica si solo contiene números | `\"123\".isdigit()` ➝ `True` |\n",
    "| `isspace()` | Verifica si solo contiene espacios | `\"   \".isspace()` ➝ `True` |\n",
    "\n",
    "- **División y Unión de Cadenas**  \n",
    "\n",
    "| Método | Descripción | Ejemplo |\n",
    "|--------|------------|---------|\n",
    "| `split(sep)` | Divide la cadena en una lista | `\"a,b,c\".split(\",\")` ➝ `[\"a\", \"b\", \"c\"]` |\n",
    "| `rsplit(sep, maxsplit)` | Divide desde la derecha | `\"a,b,c\".rsplit(\",\", 1)` ➝ `[\"a,b\", \"c\"]` |\n",
    "| `splitlines()` | Divide por saltos de línea | `\"Hola\\nMundo\".splitlines()` ➝ `[\"Hola\", \"Mundo\"]` |\n",
    "| `join(iterable)` | Une los elementos de un iterable en una cadena | `\",\".join([\"a\", \"b\", \"c\"])` ➝ `\"a,b,c\"` |\n",
    "\n",
    "- **Eliminación de Espacios en Blanco**  \n",
    "\n",
    "| Método | Descripción | Ejemplo |\n",
    "|--------|------------|---------|\n",
    "| `strip()` | Elimina espacios al inicio y final | `\" hola \".strip()` ➝ `\"hola\"` |\n",
    "| `lstrip()` | Elimina espacios al inicio | `\" hola \".lstrip()` ➝ `\"hola \"` |\n",
    "| `rstrip()` | Elimina espacios al final | `\" hola \".rstrip()` ➝ `\" hola\"` |\n",
    "\n",
    "- **Formato de Texto**  \n",
    "\n",
    "| Método | Descripción | Ejemplo |\n",
    "|--------|------------|---------|\n",
    "| `center(width)` | Centra el texto en `width` espacios | `\"hola\".center(10)` ➝ `\"   hola   \"` |\n",
    "| `ljust(width)` | Alinea a la izquierda en `width` espacios | `\"hola\".ljust(10)` ➝ `\"hola      \"` |\n",
    "| `rjust(width)` | Alinea a la derecha en `width` espacios | `\"hola\".rjust(10)` ➝ `\"      hola\"` |\n",
    "| `zfill(width)` | Rellena con ceros a la izquierda | `\"42\".zfill(5)` ➝ `\"00042\"` |"
   ]
  },
  {
   "cell_type": "code",
   "execution_count": 3,
   "metadata": {},
   "outputs": [
    {
     "name": "stdout",
     "output_type": "stream",
     "text": [
      "SISTEMAS DE ALMACENAMIENTO Y RECUPERACIÓN DE INFORMACIÓN\n",
      "Sistemas-de-almacenamiento-y-Recuperación-de-Información\n",
      "'de' encontrado en la posición: 11\n",
      "  Sistemas de Almacenamiento y Recuperación de Información  \n",
      "¿Son todo letras? False\n",
      "'123' ¿Son todo dígitos? True\n"
     ]
    }
   ],
   "source": [
    "texto = \"  Sistemas de almacenamiento y Recuperación de Información  \"\n",
    "\n",
    "# Manipulación de texto\n",
    "print(texto.strip().upper())\n",
    "\n",
    "# División y unión\n",
    "palabras = texto.split()\n",
    "nueva_cadena = \"-\".join(palabras)\n",
    "print(nueva_cadena)\n",
    "\n",
    "# Búsqueda y reemplazo\n",
    "print(\"'de' encontrado en la posición:\", texto.find(\"de\"))\n",
    "print(texto.replace(\"almacenamiento\", \"Almacenamiento\"))\n",
    "\n",
    "# Verificaciones\n",
    "print(\"¿Son todo letras?\", texto.isalpha())\n",
    "print(\"'123' ¿Son todo dígitos?\", \"123\".isdigit())"
   ]
  },
  {
   "cell_type": "markdown",
   "metadata": {},
   "source": [
    "## 4 Operadores\n",
    "\n",
    "En Python los operadores pueden usarse no solo con tipos numéricos (`int`, `float`), sino también con otros tipos de datos que implemente estos operadores."
   ]
  },
  {
   "cell_type": "markdown",
   "metadata": {},
   "source": [
    "### 4.1. Operadores Aritméticos\n",
    "| Operador | Descripción  | Ejemplo (`a = 10, b = 3`) |\n",
    "|----------|-------------|----------------------------|\n",
    "| `+`  | Suma | `a + b  # 13` |\n",
    "| `-`  | Resta | `a - b  # 7` |\n",
    "| `*`  | Multiplicación | `a * b  # 30` |\n",
    "| `/`  | División flotante | `a / b  # 3.3333` |\n",
    "| `//` | División entera | `a // b  # 3` |\n",
    "| `%`  | Módulo (resto) | `a % b  # 1` |\n",
    "| `**` | Exponente | `a ** b  # 1000` |"
   ]
  },
  {
   "cell_type": "code",
   "execution_count": 11,
   "metadata": {},
   "outputs": [
    {
     "data": {
      "text/plain": [
       "3"
      ]
     },
     "execution_count": 11,
     "metadata": {},
     "output_type": "execute_result"
    }
   ],
   "source": [
    "1 + 2"
   ]
  },
  {
   "cell_type": "code",
   "execution_count": 13,
   "metadata": {},
   "outputs": [
    {
     "data": {
      "text/plain": [
       "'ab'"
      ]
     },
     "execution_count": 13,
     "metadata": {},
     "output_type": "execute_result"
    }
   ],
   "source": [
    "'a' + 'b'"
   ]
  },
  {
   "cell_type": "code",
   "execution_count": 14,
   "metadata": {},
   "outputs": [
    {
     "data": {
      "text/plain": [
       "'ababababab'"
      ]
     },
     "execution_count": 14,
     "metadata": {},
     "output_type": "execute_result"
    }
   ],
   "source": [
    "5 * \"ab\""
   ]
  },
  {
   "cell_type": "markdown",
   "metadata": {},
   "source": [
    "### 4.2. Operadores de Comparación\n",
    "| Operador | Descripción | Ejemplo (`a = 10, b = 3`) |\n",
    "|----------|-------------|----------------------------|\n",
    "| `==`  | Igual a | `a == b  # False` |\n",
    "| `!=`  | Diferente de | `a != b  # True` |\n",
    "| `>`   | Mayor que | `a > b  # True` |\n",
    "| `<`   | Menor que | `a < b  # False` |\n",
    "| `>=`  | Mayor o igual que | `a >= b  # True` |\n",
    "| `<=`  | Menor o igual que | `a <= b  # False` |\n",
    "\n"
   ]
  },
  {
   "cell_type": "code",
   "execution_count": 15,
   "metadata": {},
   "outputs": [
    {
     "data": {
      "text/plain": [
       "False"
      ]
     },
     "execution_count": 15,
     "metadata": {},
     "output_type": "execute_result"
    }
   ],
   "source": [
    "3 == 4"
   ]
  },
  {
   "cell_type": "code",
   "execution_count": 16,
   "metadata": {},
   "outputs": [
    {
     "data": {
      "text/plain": [
       "True"
      ]
     },
     "execution_count": 16,
     "metadata": {},
     "output_type": "execute_result"
    }
   ],
   "source": [
    "3 < 4"
   ]
  },
  {
   "cell_type": "code",
   "execution_count": 18,
   "metadata": {},
   "outputs": [
    {
     "data": {
      "text/plain": [
       "False"
      ]
     },
     "execution_count": 18,
     "metadata": {},
     "output_type": "execute_result"
    }
   ],
   "source": [
    "\"Hola\" <= \"Hol\""
   ]
  },
  {
   "cell_type": "code",
   "execution_count": 19,
   "metadata": {},
   "outputs": [
    {
     "data": {
      "text/plain": [
       "True"
      ]
     },
     "execution_count": 19,
     "metadata": {},
     "output_type": "execute_result"
    }
   ],
   "source": [
    "\"Hola\" >= \"Hol\""
   ]
  },
  {
   "cell_type": "markdown",
   "metadata": {},
   "source": [
    "### 4.3. Operadores Lógicos\n",
    "| Operador | Descripción | Ejemplo (`x = True, y = False`) |\n",
    "|----------|-------------|---------------------------------|\n",
    "| `and`  | Lógico Y | `x and y  # False` |\n",
    "| `or`   | Lógico O | `x or y  # True` |\n",
    "| `not`  | Lógico NO | `not x  # False` |"
   ]
  },
  {
   "cell_type": "code",
   "execution_count": 20,
   "metadata": {},
   "outputs": [
    {
     "data": {
      "text/plain": [
       "True"
      ]
     },
     "execution_count": 20,
     "metadata": {},
     "output_type": "execute_result"
    }
   ],
   "source": [
    "(3 < 4) or (4 > 5)"
   ]
  },
  {
   "cell_type": "markdown",
   "metadata": {},
   "source": [
    "### 4.4. Operadores de Asignación\n",
    "| Operador | Equivalente a | Ejemplo (`a = 10`) |\n",
    "|----------|--------------|----------------------|\n",
    "| `=`   | Asignación simple | `a = 5` |\n",
    "| `+=`  | `a = a + b` | `a += 3  # 13` |\n",
    "| `-=`  | `a = a - b` | `a -= 3  # 7` |\n",
    "| `*=`  | `a = a * b` | `a *= 3  # 30` |\n",
    "| `/=`  | `a = a / b` | `a /= 3  # 3.3333` |\n",
    "| `//=` | `a = a // b` | `a //= 3  # 3` |\n",
    "| `%=`  | `a = a % b` | `a %= 3  # 1` |\n",
    "| `**=` | `a = a ** b` | `a **= 3  # 1000` |\n",
    "\n"
   ]
  },
  {
   "cell_type": "code",
   "execution_count": 27,
   "metadata": {},
   "outputs": [
    {
     "data": {
      "text/plain": [
       "6"
      ]
     },
     "execution_count": 27,
     "metadata": {},
     "output_type": "execute_result"
    }
   ],
   "source": [
    "a = 3\n",
    "a *= 2\n",
    "a"
   ]
  },
  {
   "cell_type": "markdown",
   "metadata": {},
   "source": [
    "### 4.5. Operadores de Identidad \n",
    "| Operador | Descripción | Ejemplo (`a = [1, 2, 3], b = a, c = [1, 2, 3]`) |\n",
    "|----------|-------------|-----------------------------------------------|\n",
    "| `is`  | Es el mismo objeto | `a is b  # True` |\n",
    "| `is not` | No es el mismo objeto | `a is not c  # True` |"
   ]
  },
  {
   "cell_type": "code",
   "execution_count": 33,
   "metadata": {},
   "outputs": [
    {
     "name": "stdout",
     "output_type": "stream",
     "text": [
      "True\n",
      "False\n"
     ]
    }
   ],
   "source": [
    "a = [1,2,3]\n",
    "b = a\n",
    "c = a.copy()\n",
    "\n",
    "print(a is b)\n",
    "print(a is c)"
   ]
  },
  {
   "cell_type": "markdown",
   "metadata": {},
   "source": [
    "### 4.6. Operadores de Pertenencia\n",
    "| Operador | Descripción | Ejemplo (`lista = [1, 2, 3]`) |\n",
    "|----------|-------------|------------------------------|\n",
    "| `in`  | Está en la secuencia | `2 in lista  # True` |\n",
    "| `not in` | No está en la secuencia | `4 not in lista  # True` |"
   ]
  },
  {
   "cell_type": "code",
   "execution_count": 31,
   "metadata": {},
   "outputs": [
    {
     "data": {
      "text/plain": [
       "True"
      ]
     },
     "execution_count": 31,
     "metadata": {},
     "output_type": "execute_result"
    }
   ],
   "source": [
    "\"a\" in \"abcd\""
   ]
  },
  {
   "cell_type": "markdown",
   "metadata": {},
   "source": [
    "## 5. Estructuras de Control"
   ]
  },
  {
   "cell_type": "markdown",
   "metadata": {},
   "source": [
    "### 5.1. Condicional\n",
    "\n",
    "```python\n",
    "if condición:\n",
    "    # Entrará por aquí si se cumple la condición\n",
    "    instrucción_1\n",
    "    instrucción_2\n",
    "    instrucción_3\n",
    "\n",
    "else:\n",
    "    # Entrará por aquí en caso contrario\n",
    "    instrucción_1\n",
    "    instrucción_5"
   ]
  },
  {
   "cell_type": "code",
   "execution_count": 44,
   "metadata": {},
   "outputs": [
    {
     "name": "stdout",
     "output_type": "stream",
     "text": [
      "256 es un número par\n"
     ]
    }
   ],
   "source": [
    "a = int(input(\"Escribe un número entero:\"))\n",
    "\n",
    "if a % 2 == 0:\n",
    "    print(a, \"es un número par\")\n",
    "\n",
    "else:\n",
    "    print(a, \"es un número impar\")"
   ]
  },
  {
   "cell_type": "markdown",
   "metadata": {},
   "source": [
    "### 5.2. Bucle While\n",
    "\n",
    "```python\n",
    "\n",
    "while condición:\n",
    "    # Mientras se cumpla la condición, se seguirán ejecutando\n",
    "    # las instrucciones\n",
    "    instrucción_1\n",
    "\n",
    "    # Con el break paramos el bucle en este punto\n",
    "    if parada_abrupta:\n",
    "        break\n",
    "\n",
    "    instrucción_2\n",
    "\n",
    "    # Con el continue se omiten el resto de instrucciones\n",
    "    # pero el bucle continua si se sigue cumpliendo la condición\n",
    "    if omitir_resto:\n",
    "        continue\n",
    "\n",
    "    instrucción_3\n",
    "    instrucción_4\n",
    "    instrucción_5\n",
    "```\n"
   ]
  },
  {
   "cell_type": "code",
   "execution_count": 46,
   "metadata": {},
   "outputs": [
    {
     "name": "stdout",
     "output_type": "stream",
     "text": [
      "5\n",
      "4\n",
      "Descontando\n",
      "3\n",
      "Descontando\n"
     ]
    }
   ],
   "source": [
    "a = 5\n",
    "\n",
    "while a > 0:\n",
    "    print(a)\n",
    "    a -= 1\n",
    "\n",
    "    if a > 3:\n",
    "        continue\n",
    "\n",
    "    print(\"Descontando\")\n",
    "\n",
    "    if a == 2:\n",
    "        break"
   ]
  },
  {
   "cell_type": "markdown",
   "metadata": {},
   "source": [
    "### 5.3. Bucle For\n",
    "\n",
    "**Extremadamente** útil para recorrer estructuras iterables (`list`, `tuple`, `set`, `dict`, `str`, ...).\n",
    "\n",
    "```python\n",
    "for variable in iterable:\n",
    "    # Recorremos todos los elementos del iterable\n",
    "    # cada elemento es guardado en 'variable'\n",
    "    instrucción_1\n",
    "    instrucción_2\n",
    "    instrucción_3\n",
    "```"
   ]
  },
  {
   "cell_type": "markdown",
   "metadata": {},
   "source": [
    "**Sin desempaquetado**"
   ]
  },
  {
   "cell_type": "code",
   "execution_count": 59,
   "metadata": {},
   "outputs": [
    {
     "name": "stdout",
     "output_type": "stream",
     "text": [
      "6 7\n"
     ]
    }
   ],
   "source": [
    "a = [(1,1),(2, 2),(3, 4)]\n",
    "b, c = 0, 0\n",
    "\n",
    "# Recorremos la lista, que es una estructura\n",
    "# iterable\n",
    "for i in a:\n",
    "    b += i[0]\n",
    "    c += i[1]\n",
    "\n",
    "print(b, c)"
   ]
  },
  {
   "cell_type": "markdown",
   "metadata": {},
   "source": [
    "**Con desempaquetado**"
   ]
  },
  {
   "cell_type": "code",
   "execution_count": 60,
   "metadata": {},
   "outputs": [
    {
     "name": "stdout",
     "output_type": "stream",
     "text": [
      "6 7\n"
     ]
    }
   ],
   "source": [
    "a = [(1,1),(2, 2),(3, 4)]\n",
    "b, c = 0, 0\n",
    "\n",
    "# Recorremos la lista, que es una estructura\n",
    "# iterable\n",
    "#\n",
    "# Usamos desempaquetado para coger los elementos\n",
    "# de las tuplas\n",
    "for x, y in a:\n",
    "    b += x\n",
    "    c += y\n",
    "\n",
    "print(b, c)"
   ]
  },
  {
   "cell_type": "markdown",
   "metadata": {},
   "source": [
    "**CUIDADO con el desempaquetado**"
   ]
  },
  {
   "cell_type": "code",
   "execution_count": 61,
   "metadata": {},
   "outputs": [
    {
     "ename": "ValueError",
     "evalue": "too many values to unpack (expected 2)",
     "output_type": "error",
     "traceback": [
      "\u001b[1;31m---------------------------------------------------------------------------\u001b[0m",
      "\u001b[1;31mValueError\u001b[0m                                Traceback (most recent call last)",
      "Cell \u001b[1;32mIn[61], line 9\u001b[0m\n\u001b[0;32m      2\u001b[0m b, c \u001b[38;5;241m=\u001b[39m \u001b[38;5;241m0\u001b[39m, \u001b[38;5;241m0\u001b[39m\n\u001b[0;32m      4\u001b[0m \u001b[38;5;66;03m# Recorremos la lista, que es una estructura\u001b[39;00m\n\u001b[0;32m      5\u001b[0m \u001b[38;5;66;03m# iterable\u001b[39;00m\n\u001b[0;32m      6\u001b[0m \u001b[38;5;66;03m#\u001b[39;00m\n\u001b[0;32m      7\u001b[0m \u001b[38;5;66;03m# Usamos desempaquetado para coger los elementos\u001b[39;00m\n\u001b[0;32m      8\u001b[0m \u001b[38;5;66;03m# de las tuplas\u001b[39;00m\n\u001b[1;32m----> 9\u001b[0m \u001b[38;5;28;01mfor\u001b[39;00m x, y \u001b[38;5;129;01min\u001b[39;00m a:\n\u001b[0;32m     10\u001b[0m     b \u001b[38;5;241m+\u001b[39m\u001b[38;5;241m=\u001b[39m x\n\u001b[0;32m     11\u001b[0m     c \u001b[38;5;241m+\u001b[39m\u001b[38;5;241m=\u001b[39m y\n",
      "\u001b[1;31mValueError\u001b[0m: too many values to unpack (expected 2)"
     ]
    }
   ],
   "source": [
    "a = [(1,1),(2, 2, 1),(3, 4)]\n",
    "b, c = 0, 0\n",
    "\n",
    "# Recorremos la lista, que es una estructura\n",
    "# iterable\n",
    "#\n",
    "# Usamos desempaquetado para coger los elementos\n",
    "# de las tuplas\n",
    "for x, y in a:\n",
    "    b += x\n",
    "    c += y\n",
    "\n",
    "print(b, c)"
   ]
  },
  {
   "cell_type": "markdown",
   "metadata": {},
   "source": [
    "## 6. Estructuras de Datos Básicas"
   ]
  },
  {
   "cell_type": "markdown",
   "metadata": {},
   "source": [
    "### 6.1 Listas\n",
    "\n",
    "Una lista (`list`) es una estructura de datos que permite almacenar una colección ordenada y mutable de elementos.\n",
    "\n",
    "Características:\n",
    "\n",
    "- **Ordenada** → Los elementos tienen una posición fija.\n",
    "- **Mutable** → Se puede modificar (añadir, eliminar o cambiar elementos).\n",
    "- **Heterogénea** → Puede contener diferentes tipos de datos en la misma lista.\n",
    "- **Permite duplicados** → Puede haber valores repetidos.\n",
    "- **Indexable** → Se accede a los elementos mediante índices (lista[0]).\n",
    "- **Iterable** → Se puede recorrer con for.\n",
    "\n",
    "Métodos básicos:\n",
    "\n",
    "| Método | Acción |\n",
    "|--------|--------|\n",
    "| `append(x)` | Agrega `x` al final |\n",
    "| `insert(i, x)` | Inserta `x` en la posición `i` |\n",
    "| `extend(iterable)` | Agrega los elementos de otro iterable |\n",
    "| `remove(x)` | Elimina la primera aparición de `x` |\n",
    "| `pop(i)` | Elimina el elemento en `i` y lo devuelve |\n",
    "| `clear()` | Borra todos los elementos |\n",
    "| `index(x)` | Devuelve la posición de `x` |\n",
    "| `count(x)` | Cuenta las veces que aparece `x` |\n",
    "| `sort()` | Ordena la lista |\n",
    "| `reverse()` | Invierte la lista |\n",
    "| `copy()` | Crea una copia |\n"
   ]
  },
  {
   "cell_type": "code",
   "execution_count": 68,
   "metadata": {},
   "outputs": [
    {
     "name": "stdout",
     "output_type": "stream",
     "text": [
      "[1, 1, 'ab', None, [1, 2], (1, 2)]\n",
      "[3, (1, 2), [1, 2], None, 'ab', -1]\n",
      "Posición de -1: 5\n"
     ]
    },
    {
     "ename": "ValueError",
     "evalue": "0 is not in list",
     "output_type": "error",
     "traceback": [
      "\u001b[1;31m---------------------------------------------------------------------------\u001b[0m",
      "\u001b[1;31mValueError\u001b[0m                                Traceback (most recent call last)",
      "Cell \u001b[1;32mIn[68], line 11\u001b[0m\n\u001b[0;32m      8\u001b[0m \u001b[38;5;28mprint\u001b[39m(a)\n\u001b[0;32m     10\u001b[0m \u001b[38;5;28mprint\u001b[39m(\u001b[38;5;124m\"\u001b[39m\u001b[38;5;124mPosición de -1:\u001b[39m\u001b[38;5;124m\"\u001b[39m, a\u001b[38;5;241m.\u001b[39mindex(\u001b[38;5;241m-\u001b[39m\u001b[38;5;241m1\u001b[39m))\n\u001b[1;32m---> 11\u001b[0m \u001b[38;5;28mprint\u001b[39m(\u001b[38;5;124m\"\u001b[39m\u001b[38;5;124mNo se va a imprimir este texto!\u001b[39m\u001b[38;5;124m\"\u001b[39m, \u001b[43ma\u001b[49m\u001b[38;5;241;43m.\u001b[39;49m\u001b[43mindex\u001b[49m\u001b[43m(\u001b[49m\u001b[38;5;241;43m0\u001b[39;49m\u001b[43m)\u001b[49m)\n",
      "\u001b[1;31mValueError\u001b[0m: 0 is not in list"
     ]
    }
   ],
   "source": [
    "a = [1,1,\"ab\", None, [1,2], (1,2)]\n",
    "print(a)\n",
    "\n",
    "a[0] = -1\n",
    "a.append(3)\n",
    "a.remove(1)\n",
    "a.reverse()\n",
    "print(a)\n",
    "\n",
    "print(\"Posición de -1:\", a.index(-1))\n",
    "print(\"No se va a imprimir este texto!\", a.index(0))"
   ]
  },
  {
   "cell_type": "markdown",
   "metadata": {},
   "source": [
    "### 6.2. Tuplas\n",
    "\n",
    "Una tupla (`tuple`) es una estructura de datos que permite almacenar una colección ordenada e inmutable de elementos.\n",
    "\n",
    "**Características**  \n",
    "- **Ordenada** → Mantiene el orden de los elementos.  \n",
    "- **Inmutable** → No se pueden modificar después de la creación.  \n",
    "- **Permite duplicados** → Puede contener valores repetidos.  \n",
    "- **Heterogénea** → Puede almacenar distintos tipos de datos.  \n",
    "- **Indexable** → Se accede a los elementos por índice (`tupla[i]`).  \n",
    "- **Iterable** → Se puede recorrer con `for`.  \n",
    "\n",
    "**Métodos Principales:**  \n",
    "\n",
    "| Método | Descripción | Ejemplo |\n",
    "|--------|------------|---------|\n",
    "| `count(x)` | Cuenta cuántas veces aparece `x` | `tupla.count(2)` |\n",
    "| `index(x)` | Devuelve el índice de la primera aparición de `x` | `tupla.index(3)` |\n",
    "\n",
    "```\n",
    "```\n",
    "**Nota:** Como `tuple` es inmutable, no tiene métodos como `append()`, `remove()` o `sort()`.  "
   ]
  },
  {
   "cell_type": "code",
   "execution_count": 1,
   "metadata": {},
   "outputs": [
    {
     "name": "stdout",
     "output_type": "stream",
     "text": [
      "0\n",
      "2\n"
     ]
    }
   ],
   "source": [
    "a = (4, 1, 2, 3, 4)\n",
    "print(a.index(4))\n",
    "print(a.count(4))"
   ]
  },
  {
   "cell_type": "markdown",
   "metadata": {},
   "source": [
    "### 6.3 Diccionarios\n",
    "Una estructura flexible y eficiente para almacenar datos clave-valor.\n",
    "\n",
    "**Características**  \n",
    "- **Colección de pares clave-valor** → Cada valor está asociado a una clave única.  \n",
    "- **Mutable** → Se pueden agregar, modificar o eliminar elementos.  \n",
    "- **No ordenado** → No se puede asumir ningún orden.  \n",
    "- **Claves únicas** → No puede haber claves duplicadas.  \n",
    "- **Accesible por clave** → Se accede a los valores mediante `dict[clave]`.  \n",
    "- **Optimizado para búsquedas** → Acceso y comprobación por clave con coste constante.\n",
    "\n",
    "**Métodos Principales**  \n",
    "\n",
    "| Método | Descripción | Ejemplo |\n",
    "|--------|------------|---------|\n",
    "| `keys()` | Devuelve una vista con todas las claves | `diccionario.keys()` |\n",
    "| `values()` | Devuelve una vista con todos los valores | `diccionario.values()` |\n",
    "| `items()` | Devuelve una vista con pares `(clave, valor)` | `diccionario.items()` |\n",
    "| `get(clave, default)` | Obtiene el valor de una clave sin error si no existe. Por defecto devuelve `None`. | `diccionario.get(\"nombre\")` |\n",
    "| `pop(clave)` | Elimina y devuelve el valor de una clave | `diccionario.pop(\"edad\")` |\n",
    "| `update(otro_dict)` | Agrega o actualiza elementos desde otro diccionario | `diccionario.update({\"ciudad\": \"París\"})` |\n",
    "| `clear()` | Elimina todos los elementos del diccionario | `diccionario.clear()` |"
   ]
  },
  {
   "cell_type": "code",
   "execution_count": 7,
   "metadata": {},
   "outputs": [
    {
     "name": "stdout",
     "output_type": "stream",
     "text": [
      "----- Acceso ----\n",
      "Eva\n",
      "No definido\n",
      "{'nombre': 'Eva', 'edad': 26, 'ciudad': 'Valencia', 'profesion': 'Ingeniera', 'ciudad_nacimiento': 'Valencia'}\n",
      "-------Borrado--------\n",
      "{'nombre': 'Eva', 'edad': 26, 'ciudad': 'Valencia', 'ciudad_nacimiento': 'Valencia'}\n",
      "-------Recorrer (clave)--------\n",
      "nombre\n",
      "edad\n",
      "ciudad\n",
      "ciudad_nacimiento\n",
      "-------Recorrer (valor)--------\n",
      "Eva\n",
      "26\n",
      "Valencia\n",
      "Valencia\n",
      "-------Recorrer (clave, valor)--------\n",
      "nombre Eva\n",
      "edad 26\n",
      "ciudad Valencia\n",
      "ciudad_nacimiento Valencia\n"
     ]
    }
   ],
   "source": [
    "diccionario = {\"nombre\": \"Eva\", \"edad\": 25, \"ciudad\": \"Valencia\"}\n",
    "\n",
    "# Acceso al diccionario\n",
    "print(\"----- Acceso ----\")\n",
    "print(diccionario[\"nombre\"])\n",
    "print(diccionario.get(\"pais\", \"No definido\"))\n",
    "\n",
    "# Actualización del diccionario\n",
    "diccionario[\"edad\"] = 26\n",
    "diccionario[\"profesion\"] = \"Ingeniera\"\n",
    "diccionario[\"ciudad_nacimiento\"] = \"Valencia\"\n",
    "print(diccionario)\n",
    "\n",
    "# Borrado del diccionario\n",
    "print(\"-------Borrado--------\")\n",
    "del diccionario[\"profesion\"]\n",
    "print(diccionario)\n",
    "\n",
    "print(\"-------Recorrer (clave)--------\")\n",
    "# Recorrer diccionario con clave\n",
    "for k in diccionario.keys(): # También puede ser 'diccionario' a secas\n",
    "    print(k)\n",
    "\n",
    "print(\"-------Recorrer (valor)--------\")\n",
    "# Recorrer diccionario con valor\n",
    "for v in diccionario.values():\n",
    "    print(v)\n",
    "\n",
    "# Iterar sobre diccionario\n",
    "print(\"-------Recorrer (clave, valor)--------\")\n",
    "# Recorrer diccionario con clave valor\n",
    "for k, v in diccionario.items():\n",
    "    print(k, v)"
   ]
  },
  {
   "cell_type": "markdown",
   "metadata": {},
   "source": [
    "### 6.4 Sets\n",
    "\n",
    "**Características de `set`**  \n",
    "- **No ordenado** → No se puede asumir ningún orden en los elementos.  \n",
    "- **No permite duplicados** → Todos los elementos son únicos.  \n",
    "- **Mutable** → Se pueden agregar o eliminar elementos.  \n",
    "- **Optimizado para búsquedas** → Comprobar si un elemento está en la colección tiene coste constante.\n",
    "- **No indexable** → No se puede acceder a elementos por índice.  \n",
    "\n",
    "**Métodos Principales**  \n",
    "\n",
    "| Método | Descripción | Ejemplo |\n",
    "|--------|------------|---------|\n",
    "| `add(x)` | Agrega un elemento al conjunto | `conjunto.add(5)` |\n",
    "| `remove(x)` | Elimina `x` (lanza error si no existe) | `conjunto.remove(2)` |\n",
    "| `discard(x)` | Elimina `x` (sin error si no existe) | `conjunto.discard(2)` |\n",
    "| `pop()` | Elimina y devuelve un elemento aleatorio | `conjunto.pop()` |\n",
    "| `clear()` | Elimina todos los elementos | `conjunto.clear()` |\n",
    "| `union(otro_set)` | Une dos conjuntos (`A ∪ B`) | `A.union(B)` |\n",
    "| `intersection(otro_set)` | Elementos comunes (`A ∩ B`) | `A.intersection(B)` |\n",
    "| `difference(otro_set)` | Diferencia (`A - B`) | `A.difference(B)` |\n",
    "| `symmetric_difference(otro_set)` | Diferencia simétrica (`A △ B`) | `A.symmetric_difference(B)` |"
   ]
  },
  {
   "cell_type": "code",
   "execution_count": 15,
   "metadata": {},
   "outputs": [
    {
     "name": "stdout",
     "output_type": "stream",
     "text": [
      "{1, 2, 3, 4}\n",
      "------Actualización-------\n",
      "{1, 2, 4, 5}\n",
      "------Consulta-------\n",
      "False\n",
      "True\n",
      "------Operaciones de conjuntos-------\n",
      "A: {1, 2, 3}\n",
      "B: {3, 4, 5}\n",
      "A ∪ B: {1, 2, 3, 4, 5}\n",
      "A ∩ B: {3}\n",
      "A - B: {1, 2}\n",
      "(A - B) ∪ (B - A): {1, 2, 4, 5}\n"
     ]
    }
   ],
   "source": [
    "conjunto = {1, 2, 3, 4}\n",
    "print(conjunto)\n",
    "# Actualización\n",
    "print(\"------Actualización-------\")\n",
    "conjunto.add(5)\n",
    "conjunto.remove(3)\n",
    "print(conjunto)\n",
    "print(\"------Consulta-------\")\n",
    "print(3 in conjunto)\n",
    "print(5 in conjunto)\n",
    "\n",
    "A = {1, 2, 3}\n",
    "B = {3, 4, 5}\n",
    "print(\"------Operaciones de conjuntos-------\")\n",
    "print(\"A:\", A)\n",
    "print(\"B:\", B)\n",
    "print(\"A ∪ B:\", A.union(B))\n",
    "print(\"A ∩ B:\", A.intersection(B))\n",
    "print(\"A - B:\", A.difference(B))\n",
    "print(\"(A - B) ∪ (B - A):\", A.symmetric_difference(B))"
   ]
  },
  {
   "cell_type": "markdown",
   "metadata": {},
   "source": [
    "# 6.5 Inicialización intensional\n",
    "\n",
    "En Python se pueden inicializar las estructuras básicas de forma intensional. De esta forma desde su creación, quedan inicializadas."
   ]
  },
  {
   "cell_type": "code",
   "execution_count": 16,
   "metadata": {},
   "outputs": [
    {
     "name": "stdout",
     "output_type": "stream",
     "text": [
      "[1, 4, 9, 16]\n",
      "(1, 4, 9, 16)\n",
      "{1: 1, 2: 4, 3: 9, 4: 16}\n",
      "{16, 1, 4, 9}\n"
     ]
    }
   ],
   "source": [
    "# Creamos la lista [1,4,9,16]\n",
    "lista = [i**2 for i in range(1, 5)]\n",
    "print(lista)\n",
    "\n",
    "# Creamos la tupla (1,4,9,16)\n",
    "tupla = tuple(i**2 for i in range(1, 5))\n",
    "print(tupla)\n",
    "\n",
    "# Creamos el diccionario {1:1,2:4,3:9,4:16}\n",
    "diccionario = {i:i**2 for i in range(1, 5)}\n",
    "print(diccionario)\n",
    "\n",
    "# Creamos el set {1,4,9,16}\n",
    "conjunto = {i**2 for i in range(1, 5)}\n",
    "print(conjunto)"
   ]
  },
  {
   "cell_type": "markdown",
   "metadata": {},
   "source": [
    "## 7. Funciones, Funciones _lambda_, Importar funciones y Tipado"
   ]
  },
  {
   "cell_type": "markdown",
   "metadata": {},
   "source": [
    "### 7.1 Funciones\n",
    "\n",
    "Las funciones tienen la siguiente sintaxis:\n",
    "\n",
    "```python\n",
    "def nombre_funcion(par1, par2):\n",
    "    instruccion_1\n",
    "    instruccion_2\n",
    "    resultado = instruccion_3\n",
    "\n",
    "    return resultado\n",
    "```\n",
    "\n",
    "Si bien la instrucción `return` no es obligatoria, **TODAS** las funciones de Python devuelven un valor. En caso de que no se ponga la instrucción `return` la función devolverá `None`."
   ]
  },
  {
   "cell_type": "code",
   "execution_count": 21,
   "metadata": {},
   "outputs": [
    {
     "name": "stdout",
     "output_type": "stream",
     "text": [
      "Llamamos a la función\n",
      "Hello World!\n",
      "El resultado es: None\n"
     ]
    }
   ],
   "source": [
    "def saludar(msg):\n",
    "    print(msg)\n",
    "\n",
    "print(\"Llamamos a la función\")\n",
    "res = saludar(\"Hello World!\")\n",
    "print(\"El resultado es:\", res)"
   ]
  },
  {
   "cell_type": "code",
   "execution_count": 22,
   "metadata": {},
   "outputs": [
    {
     "name": "stdout",
     "output_type": "stream",
     "text": [
      "Factorial de 0 1\n",
      "Factorial de 1 1\n",
      "Factorial de 8 40320\n"
     ]
    }
   ],
   "source": [
    "def factorial(N):\n",
    "    res = 1\n",
    "\n",
    "    for i in range(1, N+1):\n",
    "        res *= i\n",
    "    \n",
    "    return res\n",
    "\n",
    "print(\"Factorial de 0\", factorial(0))\n",
    "print(\"Factorial de 1\", factorial(1))\n",
    "print(\"Factorial de 8\", factorial(8))"
   ]
  },
  {
   "cell_type": "markdown",
   "metadata": {},
   "source": [
    "### 7.2 Funciones _lambda_\n",
    "\n",
    "Las funciones _lambda_ es una forma de definir una función que recibe un conjunto de parámetros, realiza una cálculo específico y devuelve su resultado.\n",
    "\n",
    "```python\n",
    "# Función que recibe 'x' e 'y' y calcula 'x' elevado a 'y'.\n",
    "potencia_de = lambda x, y: x**y\n",
    "```"
   ]
  },
  {
   "cell_type": "code",
   "execution_count": 24,
   "metadata": {},
   "outputs": [
    {
     "name": "stdout",
     "output_type": "stream",
     "text": [
      "0 elevado a 3: 0\n",
      "1 elevado a 3: 1\n",
      "2 elevado a 3: 8\n",
      "3 elevado a 3: 27\n",
      "4 elevado a 3: 64\n",
      "5 elevado a 3: 125\n",
      "6 elevado a 3: 216\n",
      "7 elevado a 3: 343\n",
      "8 elevado a 3: 512\n",
      "9 elevado a 3: 729\n"
     ]
    }
   ],
   "source": [
    "potencia_de = lambda x, y: x**y\n",
    "\n",
    "for i in range(10):\n",
    "    print(f\"{i} elevado a 3:\", potencia_de(i, 3))"
   ]
  },
  {
   "cell_type": "markdown",
   "metadata": {},
   "source": [
    "### 7.3 Importar funciones\n",
    "\n",
    "Python permite importar módulos y funciones con `import` y `from`.  \n",
    "\n",
    "**`import`:**  importa un módulo completo.  \n",
    "\n",
    "```python\n",
    "import math\n",
    "print(math.sqrt(16))\n",
    "```\n",
    "**`from`:**  importa una función de un módulo.\n",
    "```python\n",
    "from math import sqrt\n",
    "print(sqrt(16))\n",
    "```\n",
    "\n",
    "**`as`:** permite cambiar el nombre de un módulo o función para evitar conflictos de nombres. \n",
    "```python\n",
    "import math as mates\n",
    "from math import sqrt as raiz_cuadrada\n",
    "\n",
    "print(mates.sqrt(16))\n",
    "print(raiz_cuadrada(16))\n",
    "```"
   ]
  },
  {
   "cell_type": "code",
   "execution_count": null,
   "metadata": {},
   "outputs": [],
   "source": []
  },
  {
   "cell_type": "markdown",
   "metadata": {},
   "source": [
    "### 7.4 Tipado en Python\n",
    "\n",
    "Si bien Python es un lenguaje con tipado dinámico, existe la posiblidad de indicar el tipo de las variables. Este tipado es útil para facilitar el entendimiento del código, reducir el número de errores y facilitar la corrección de estos. \n",
    "\n",
    "```python\n",
    "\n",
    "# Método para sumar dos enteros\n",
    "def suma(x: int, y: int) -> int:\n",
    "    return x + y\n",
    "```\n",
    "\n",
    "A parte de los tipos básicos (`int`, `float`, `str`, ...). En el módulo `typing` existen más tipos:\n",
    "\n",
    "| Tipo            | Descripción |\n",
    "|----------------|------------|\n",
    "| `Any`          | Acepta cualquier tipo de dato. |\n",
    "| `Union[T1, T2]` | Permite múltiples tipos (`Union[int, str]`). |\n",
    "| `Optional[T]`  | Equivalente a `Union[T, None]` (valor opcional). |\n",
    "| `List[T]`      | Lista con elementos del tipo `T`. |\n",
    "| `Tuple[T, ...]` | Tupla con elementos de tipos específicos. |\n",
    "| `Dict[K, V]`   | Diccionario con claves `K` y valores `V`. |\n",
    "| `Set[T]`       | Conjunto con elementos del tipo `T`. |\n",
    "| `Callable[[P1, P2], R]` | Función con parámetros `P1, P2` que retorna `R`. |\n",
    "| `Iterable[T]`  | Objeto que se puede recorrer (`for`). |\n",
    "| `Sequence[T]`  | Secuencia indexable como `list` o `tuple`. |\n",
    "| `Literal[...]` | Restringe un valor a opciones específicas. |"
   ]
  },
  {
   "cell_type": "code",
   "execution_count": 1,
   "metadata": {},
   "outputs": [
    {
     "name": "stdout",
     "output_type": "stream",
     "text": [
      "Hello\n",
      "World\n",
      "!\n"
     ]
    }
   ],
   "source": [
    "from typing import List\n",
    "\n",
    "def listar_elementos(lista: List[str]):\n",
    "    for elemento in lista:\n",
    "        print(elemento)\n",
    "\n",
    "listar_elementos(['Hello', 'World', '!'])"
   ]
  },
  {
   "cell_type": "markdown",
   "metadata": {},
   "source": [
    "### 8. Entrada y Salida Estándar, Ficheros y Gestión de Excepciones"
   ]
  },
  {
   "cell_type": "markdown",
   "metadata": {},
   "source": [
    "### 8.1. Salida y Entrada Estándar\n",
    "\n",
    "La salida estándar se realiza con la función `print`. Esta función tiene los siguientes parámetros.\n",
    "\n",
    "| Parámetro  | Descripción                  | Valor por Defecto  |\n",
    "|------------|------------------------------|--------------------|\n",
    "| `*elementos` | Elementos a imprimir         | Requerido         |\n",
    "| `sep`      | Separador entre elementos    | `\" \"` (espacio)   |\n",
    "| `end`      | Caracter al final de la salida | `\"\\n\"` (salto de línea) |\n",
    "| `file`     | Redirige la salida (ej. archivo) | `sys.stdout`  |\n",
    "| `flush`    | Fuerza el vaciado del buffer | `False`          |\n",
    "\n"
   ]
  },
  {
   "cell_type": "code",
   "execution_count": 35,
   "metadata": {},
   "outputs": [
    {
     "name": "stdout",
     "output_type": "stream",
     "text": [
      "Bienvenid@s - a la asignatura - de SAR\n",
      "Bienvenid@s + a la asignatura + de SAR!! :)\n"
     ]
    }
   ],
   "source": [
    "print(\"Bienvenid@s\", \"a la asignatura\", \"de SAR\", sep=\" - \")\n",
    "print(\"Bienvenid@s\", \"a la asignatura\", \"de SAR\", sep=\" + \", end=\"!!\")\n",
    "print(\" :)\")"
   ]
  },
  {
   "cell_type": "markdown",
   "metadata": {},
   "source": [
    "La entrada se realiza con el método `input`"
   ]
  },
  {
   "cell_type": "code",
   "execution_count": 39,
   "metadata": {},
   "outputs": [
    {
     "name": "stdout",
     "output_type": "stream",
     "text": [
      "Me han dicho: Un saludo!\n"
     ]
    }
   ],
   "source": [
    "msg = input(\"Dame un saludo:\")\n",
    "print('Me han dicho:', msg)"
   ]
  },
  {
   "cell_type": "markdown",
   "metadata": {},
   "source": [
    "### 8.2. Ficheros\n",
    "\n",
    "Python maneja archivos con `open(\"archivo.txt\", \"modo\", encoding=\"utf-8\")`.\n",
    "\n",
    "**NOTA:** Para garantizar la compatiblidad entre Sistemas Operativos cuando trabajamos con ficheros de texto, es recomendable marcar el `encoding` tal como está arriba.\n",
    "\n",
    "**Modos de Apertura**  \n",
    "- `\"r\"` → Lectura (error si no existe).  \n",
    "- `\"w\"` → Escritura (borra contenido).  \n",
    "- `\"a\"` → Agregar sin borrar.  \n",
    "- `\"x\"` → Creación (error si ya existe).  \n",
    "- `\"b\"` → Modo binario (`rb`, `wb`).  \n",
    "- `\"t\"` → Modo texto (por defecto).  \n",
    "\n",
    "**Métodos Básicos**  \n",
    "\n",
    "| Método | Descripción | Ejemplo |\n",
    "|--------|------------|---------|\n",
    "| `read()` | Lee todo el archivo | `f.read()` |\n",
    "| `readline()` | Lee una sola línea | `f.readline()` |\n",
    "| `readlines()` | Lee todas las líneas en una lista | `f.readlines()` |\n",
    "| `write(texto)` | Escribe en el archivo (sobrescribe en `\"w\"`) | `f.write(\"Hola\")` |\n",
    "| `writelines(lista)` | Escribe una lista de líneas | `f.writelines([\"L1\\n\", \"L2\\n\"])` |\n",
    "| `seek(pos)` | Mueve el puntero a `pos` | `f.seek(0)` |\n",
    "| `tell()` | Devuelve la posición del puntero | `f.tell()` |\n",
    "| `flush()` | Fuerza la escritura en disco | `f.flush()` |\n",
    "| `close()` | Cierra el archivo (automático con `with`) | `f.close()` |\n",
    "\n",
    "**Leer un Archivo**  \n",
    "```python\n",
    "    f = open(\"archivo.txt\", \"r\", encoding=\"utf-8\")\n",
    "    contenido = f.read()\n",
    "    print(contenido)\n",
    "    f.close()\n",
    "```\n",
    "**Escribir en archivo**  \n",
    "```python\n",
    "    # Variante 1\n",
    "    f = open(\"archivo.txt\", \"w\", encoding=\"utf-8\")\n",
    "    f.write('Un poco de contenido.\\n')\n",
    "    f.close()\n",
    "\n",
    "    # Variante 2\n",
    "    f = open(\"archivo.txt\", \"w\", encoding=\"utf-8\")\n",
    "    print('Un poco de contenido.', file=f)\n",
    "    f.close()\n",
    "```"
   ]
  },
  {
   "cell_type": "code",
   "execution_count": null,
   "metadata": {},
   "outputs": [],
   "source": []
  },
  {
   "cell_type": "markdown",
   "metadata": {},
   "source": [
    "### 8.3. Gestión de Excepciones\n",
    "\n",
    "Al igual que en otros lenguajes, existe una estructura para gestionar posibles excepciones durante la ejecución\n",
    "\n",
    "```python\n",
    "try:\n",
    "    # instrucciones que pueden generar excepciones\n",
    "    # y quieren ser controladas.\n",
    "\n",
    "except Error as e:\n",
    "    # instrucciones a ejecutar si hay algún error.\n",
    "\n",
    "finally:\n",
    "    # instrucciones a ejecutar independientemente si hay o no errores.\n",
    "```"
   ]
  },
  {
   "cell_type": "code",
   "execution_count": 42,
   "metadata": {},
   "outputs": [
    {
     "name": "stdout",
     "output_type": "stream",
     "text": [
      "Error: division by zero\n",
      "He terminado mal\n"
     ]
    }
   ],
   "source": [
    "ok = True\n",
    "\n",
    "try:\n",
    "    x = 1 / 0\n",
    "\n",
    "except ZeroDivisionError as e:\n",
    "    print(f\"Error: {e}\")\n",
    "    ok = False\n",
    "\n",
    "finally:\n",
    "    if ok:\n",
    "        print('He terminado bien')\n",
    "    else:\n",
    "        print('He terminado mal')"
   ]
  },
  {
   "cell_type": "markdown",
   "metadata": {},
   "source": [
    "### 8.4. Estructura `with`\n",
    "\n",
    "La estructura with nos permite no tener que gestionar el cierre de los ficheros.\n",
    "Si existe alguna excepción, el fichero será cerrado correctamente.\n",
    "\n",
    "```python\n",
    "with open('archivo.txt', 'r', encoding=\"utf-8\") as f:\n",
    "    contenido = f.read()\n",
    "    print(contenido)\n",
    "\n",
    "# Es equivalente a\n",
    "f = None\n",
    "try:\n",
    "    f = open('archivo.txt', 'r', encoding=\"utf-8\")\n",
    "    contenido = f.read()\n",
    "    print(contenido)\n",
    "\n",
    "finally:\n",
    "    if f is not None:\n",
    "        f.close()\n",
    "```"
   ]
  },
  {
   "cell_type": "markdown",
   "metadata": {},
   "source": []
  },
  {
   "cell_type": "markdown",
   "metadata": {},
   "source": [
    "Podemos abrir varios ficheros a la vez si lo deseamos.\n",
    "\n",
    "```python\n",
    "# Ejemplo de copiado de contenido de un fichero a otro\n",
    "with (\n",
    "    open('archivo_entrada.txt', 'r', encoding=\"utf-8\") as fli,\n",
    "    open('archivo_salida.txt', 'w', encoding=\"utf-8\") as flo\n",
    "):\n",
    "    for l in fli:\n",
    "        print(l)\n",
    "```"
   ]
  },
  {
   "cell_type": "code",
   "execution_count": null,
   "metadata": {},
   "outputs": [],
   "source": []
  },
  {
   "cell_type": "markdown",
   "metadata": {},
   "source": [
    "## 9. Formateo de Cadenas con _f-strings_\n",
    "\n",
    "**Características Principales**  \n",
    "- Se definen con un prefijo `f` o `F` antes de la cadena.  \n",
    "- Permiten insertar variables y expresiones dentro de `{}`.  \n",
    "- Son más eficientes y legibles que `.format()` y `%`.  \n",
    "- Se evalúan en tiempo de ejecución.  \n",
    "\n",
    "**Usos Básicos**  \n",
    "| Uso                | Descripción |\n",
    "|-------------------|------------|\n",
    "| **Interpolación de variables** | Inserta valores de variables dentro de la cadena. |\n",
    "| **Expresiones dentro de `{}`** | Permite cálculos y llamadas a funciones dentro de `{}`. |\n",
    "| **Formateo de números** | Controla decimales (`:.2f`), bases numéricas (`:b, :x, :o`). |\n",
    "| **Alineación de texto** | Alinea contenido (`:<`, `:>`, `:^`) con espacios o caracteres. |\n",
    "| **Uso con fechas** | Formatea fechas con `datetime.strftime()`. |"
   ]
  },
  {
   "cell_type": "code",
   "execution_count": 18,
   "metadata": {},
   "outputs": [
    {
     "data": {
      "text/plain": [
       "'Hello               -     World-001015.123'"
      ]
     },
     "execution_count": 18,
     "metadata": {},
     "output_type": "execute_result"
    }
   ],
   "source": [
    "a = \"Hello\"\n",
    "b = \"World\"\n",
    "c = 1015.12345\n",
    "\n",
    "f\"{a:<20}-{b:>10}-{c:010.3f}\""
   ]
  },
  {
   "cell_type": "markdown",
   "metadata": {},
   "source": [
    "## 10. Clases\n",
    "\n",
    "Python también tiene programación orientada a objetos con las siguientes características:\n",
    "\n",
    "| Característica  | Descripción |\n",
    "|---------------|------------|\n",
    "| **Clases**    | Plantillas para crear objetos. |\n",
    "| **Objetos**   | Instancias de una clase. |\n",
    "| **Encapsulación** | Restricción del acceso a datos y métodos. |\n",
    "| **Herencia**  | Permite que una clase derive de otra. |\n",
    "| **Polimorfismo** | Métodos con diferentes implementaciones en clases hijas. |\n",
    "| **Abstracción** | Oculta detalles complejos y expone solo lo necesario. |\n",
    "\n",
    "\n",
    "```python\n",
    "class Persona:\n",
    "    def __init__(self, nombre: str):\n",
    "        self.nombre = nombre\n",
    "    \n",
    "    def saludar(self):\n",
    "        return f\"Hola, soy {self.nombre}\"\n",
    "\n",
    "class Alumno(Persona):\n",
    "    def __init__(self, nombre: str, curso: str):\n",
    "        super(nombre)\n",
    "        self.curso = curso\n",
    "\n",
    "    def preguntar(self, pregunta: str):\n",
    "        return (\n",
    "            f\"Disculpe, soy {self.nombre} de {self.curso} y\"\n",
    "            f\" tenía la siguiente pregunta: {pregunta}\"\n",
    "        )\n",
    "\n",
    "p = Alumno(\"Alice\")\n",
    "print(p.saludar())\n",
    "print(p.preguntar(\"¿A qué hora es el examen?\"))\n",
    "```"
   ]
  }
 ],
 "metadata": {
  "kernelspec": {
   "display_name": "Python 3 (ipykernel)",
   "language": "python",
   "name": "python3"
  },
  "language_info": {
   "codemirror_mode": {
    "name": "ipython",
    "version": 3
   },
   "file_extension": ".py",
   "mimetype": "text/x-python",
   "name": "python",
   "nbconvert_exporter": "python",
   "pygments_lexer": "ipython3",
   "version": "3.12.3"
  }
 },
 "nbformat": 4,
 "nbformat_minor": 4
}
