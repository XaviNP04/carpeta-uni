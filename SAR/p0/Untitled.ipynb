{
 "cells": [
  {
   "cell_type": "markdown",
   "id": "1b9c1385",
   "metadata": {},
   "source": [
    "## Act 1 "
   ]
  },
  {
   "cell_type": "code",
   "execution_count": 31,
   "id": "59315bbb",
   "metadata": {
    "scrolled": true
   },
   "outputs": [
    {
     "name": "stdout",
     "output_type": "stream",
     "text": [
      "--------------------------SOLUCIÓ--------------------------\n"
     ]
    }
   ],
   "source": [
    "import string\n",
    "\n",
    "def panagrama(frase):\n",
    "    a = set(frase.lower().strip())\n",
    "    return(a.intersection(string.ascii_lowercase) == set(string.ascii_lowercase))\n",
    "    \n",
    "\n",
    "print(\"--------------------------SOLUCIÓ--------------------------\")\n",
    "panagrama(\"the quick brown fox jumps over the lazy dog\")"
   ]
  },
  {
   "cell_type": "markdown",
   "id": "43f052c2",
   "metadata": {},
   "source": [
    "## Act 2"
   ]
  },
  {
   "cell_type": "code",
   "execution_count": 54,
   "id": "108843ee",
   "metadata": {},
   "outputs": [
    {
     "data": {
      "text/plain": [
       "True"
      ]
     },
     "execution_count": 54,
     "metadata": {},
     "output_type": "execute_result"
    }
   ],
   "source": [
    "import string\n",
    "\n",
    "def panagramaPerfe(frase):\n",
    "    b = set(string.ascii_lowercase)\n",
    "\n",
    "    for i in b:\n",
    "        if frase.count(i) != 1:\n",
    "            return(False)\n",
    "        \n",
    "    return(True)\n",
    "\n",
    "panagramaPerfe(\"qick bwn fx jumps vr the lazy dog\")"
   ]
  },
  {
   "cell_type": "markdown",
   "id": "07077abb",
   "metadata": {},
   "source": [
    "## Act 3"
   ]
  },
  {
   "cell_type": "code",
   "execution_count": null,
   "id": "0a1f0102",
   "metadata": {},
   "outputs": [],
   "source": []
  }
 ],
 "metadata": {
  "kernelspec": {
   "display_name": "Python 3 (ipykernel)",
   "language": "python",
   "name": "python3"
  },
  "language_info": {
   "codemirror_mode": {
    "name": "ipython",
    "version": 3
   },
   "file_extension": ".py",
   "mimetype": "text/x-python",
   "name": "python",
   "nbconvert_exporter": "python",
   "pygments_lexer": "ipython3",
   "version": "3.12.3"
  }
 },
 "nbformat": 4,
 "nbformat_minor": 5
}
