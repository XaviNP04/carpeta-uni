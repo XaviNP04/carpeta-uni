{
 "cells": [
  {
   "cell_type": "markdown",
   "id": "t3fsi5YN9nrD",
   "metadata": {
    "id": "t3fsi5YN9nrD"
   },
   "source": [
    "<h5></h5>\n",
    "<h1 style=\"display:block; margin-top:5px;\" align=\"center\">Búsqueda semántica</h1>\n",
    "<h3 style=\"display:block; margin-top:5px;\" align=\"center\">SAR: Sistemas de Almacenamiento y Recuperación de Información</h3>\n",
    "<h3 style=\"display:block; margin-top:5px;\" align=\"center\">GII</h3>\n",
    "<h3 style=\"display:block; margin-top:5px;\" align=\"center\">ETSInf. Universitat Politècnica de València</h3>\n",
    "<h3 style=\"display:block; margin-top:5px;\" align=\"center\">2024-2025</h3>    \n",
    "<br>"
   ]
  },
  {
   "cell_type": "code",
   "execution_count": 1,
   "id": "96f3f0f6-4c9c-433c-ade8-32d3bc10f702",
   "metadata": {
    "id": "96f3f0f6-4c9c-433c-ade8-32d3bc10f702"
   },
   "outputs": [],
   "source": [
    "COLAB = False # IF YOU USE GOOGLE COLAB -> COLAB = True\n",
    "PIP = False # IF YOU NEED INSTALL THE LIBRARIES -> PIP = True\n",
    "DOWNLOAD = False # LOAD SPACY MODEL"
   ]
  },
  {
   "cell_type": "code",
   "execution_count": 2,
   "id": "0b6bfec5-df15-4489-a5ea-2d56e623f509",
   "metadata": {
    "id": "0b6bfec5-df15-4489-a5ea-2d56e623f509"
   },
   "outputs": [],
   "source": [
    "if PIP:\n",
    "    !pip install numpy\n",
    "    !pip install torch\n",
    "    !pip install scikit-learn\n",
    "    !pip install sentence-transformers\n",
    "    !pip install tqdm\n",
    "    !python -m spacy download es_core_news_lg"
   ]
  },
  {
   "cell_type": "code",
   "execution_count": 3,
   "id": "St0Z-mX58R2a",
   "metadata": {
    "id": "St0Z-mX58R2a"
   },
   "outputs": [],
   "source": [
    "if DOWNLOAD:\n",
    "  !python -m spacy download es_core_news_lg"
   ]
  },
  {
   "cell_type": "code",
   "execution_count": 4,
   "id": "c284fc8d-de5d-4437-a0ae-c60e6aaea4fd",
   "metadata": {
    "id": "c284fc8d-de5d-4437-a0ae-c60e6aaea4fd"
   },
   "outputs": [],
   "source": [
    "if COLAB is True:\n",
    "  import sys\n",
    "  from google.colab import drive\n",
    "  drive.mount('/content/drive')\n",
    "  base_path = \"/content/drive/MyDrive/docencia/SAR\"\n",
    "  library_path = base_path\n",
    "  sys.path.append(library_path)\n",
    "else:\n",
    "  base_path = \".\"\n",
    "\n"
   ]
  },
  {
   "cell_type": "code",
   "execution_count": null,
   "id": "78839570-8b83-445c-9707-f0bbfef7bf37",
   "metadata": {
    "id": "78839570-8b83-445c-9707-f0bbfef7bf37",
    "scrolled": true
   },
   "outputs": [
    {
     "name": "stderr",
     "output_type": "stream",
     "text": [
      "Some weights of BertModel were not initialized from the model checkpoint at dccuchile/bert-base-spanish-wwm-uncased and are newly initialized: ['bert.pooler.dense.bias', 'bert.pooler.dense.weight']\n",
      "You should probably TRAIN this model on a down-stream task to be able to use it for predictions and inference.\n",
      "Some weights of BertModel were not initialized from the model checkpoint at dccuchile/bert-base-spanish-wwm-uncased and are newly initialized: ['bert.pooler.dense.bias', 'bert.pooler.dense.weight']\n",
      "You should probably TRAIN this model on a down-stream task to be able to use it for predictions and inference.\n"
     ]
    },
    {
     "name": "stdout",
     "output_type": "stream",
     "text": [
      "Indexing text using SpacyStatic_noSW_noAlpha ...done in 0.941 seconds\n",
      "\n",
      "Indexing text using SpacyStatic2_noAlpha ...done in 0.926 seconds\n",
      "\n",
      "Indexing text using SpacyStatic3_noSW ...done in 0.884 seconds\n",
      "\n",
      "Indexing text using SpacyStatic4 ...done in 0.911 seconds\n",
      "\n",
      "Indexing text using BETO ...done in 2.68 seconds\n",
      "\n",
      "Indexing text using BETOCLS ...done in 2.41 seconds\n",
      "\n",
      "Indexing text using Sentence-BERT ...done in 1.05 seconds\n",
      "\n"
     ]
    },
    {
     "name": "stdin",
     "output_type": "stream",
     "text": [
      "Querry: perros y gatos\n"
     ]
    },
    {
     "name": "stdout",
     "output_type": "stream",
     "text": [
      "\n",
      "Results with SpacyStatic_noSW_noAlpha:\n",
      "  Phrase: La plaza estaba llena de niños jugando, padres charlando y músicos callejeros. | Distance: 25.5670\n",
      "  Phrase: Los órganos en chip están permitiendo probar fármacos sin necesidad de ensayos con animales. | Distance: 26.4669\n",
      "  Phrase: La acuaponía combina la cría de peces con el cultivo de plantas en sistemas circulares. | Distance: 26.5050\n",
      "\n",
      "Results with SpacyStatic2_noAlpha:\n",
      "  Phrase: Los órganos en chip están permitiendo probar fármacos sin necesidad de ensayos con animales. | Distance: 22.3713\n",
      "  Phrase: Mi padre solía contarme historias antes de dormir, y aún las recuerdo con cariño. | Distance: 22.3913\n",
      "  Phrase: Los nanorobots médicos están siendo probados para administrar fármacos con precisión celular. | Distance: 22.5767\n",
      "\n",
      "Results with SpacyStatic3_noSW:\n",
      "  Phrase: La plaza estaba llena de niños jugando, padres charlando y músicos callejeros. | Distance: 26.6425\n",
      "  Phrase: Los órganos en chip están permitiendo probar fármacos sin necesidad de ensayos con animales. | Distance: 26.8566\n",
      "  Phrase: La acuaponía combina la cría de peces con el cultivo de plantas en sistemas circulares. | Distance: 27.0663\n",
      "\n",
      "Results with SpacyStatic4:\n",
      "  Phrase: Mi padre solía contarme historias antes de dormir, y aún las recuerdo con cariño. | Distance: 21.7775\n",
      "  Phrase: Los nanorobots médicos están siendo probados para administrar fármacos con precisión celular. | Distance: 22.0223\n",
      "  Phrase: Los órganos en chip están permitiendo probar fármacos sin necesidad de ensayos con animales. | Distance: 22.0811\n",
      "\n",
      "Results with BETO:\n",
      "  Phrase: Mi prima adoptó un perro que fue rescatado de las calles, y ahora es parte de la familia. | Distance: 17.8697\n",
      "  Phrase: El perro de mi vecino ladra cada vez que alguien pasa por la calle, lo cual puede ser molesto. | Distance: 18.0523\n",
      "  Phrase: Mi hermana mayor me enseñó a andar en bicicleta cuando tenía cinco años. | Distance: 18.1602\n",
      "\n",
      "Results with BETOCLS:\n",
      "  Phrase: Me gusta escribir en mi diario por las noches para reflexionar sobre el día. | Distance: 22.4482\n",
      "  Phrase: Me encanta leer novelas históricas porque me transportan a épocas y lugares que nunca conocí. | Distance: 22.5086\n",
      "  Phrase: Mi abuela guarda cartas antiguas en una caja de madera que tiene más de cincuenta años. | Distance: 22.6200\n",
      "\n",
      "Results with Sentence-BERT:\n",
      "  Phrase: Mi prima adoptó un perro que fue rescatado de las calles, y ahora es parte de la familia. | Distance: 19.1625\n",
      "  Phrase: Las fake news están influyendo en procesos electorales y debates públicos en múltiples países. | Distance: 21.8736\n",
      "  Phrase: La ética animal aboga por el trato justo y compasivo hacia todas las especies en nuestra interacción con ellas. | Distance: 22.3150\n"
     ]
    }
   ],
   "source": [
    "from SAR_semantics import SpacyStaticModel, BetoEmbeddingModel, BetoEmbeddingCLSModel, SentenceBertEmbeddingModel\n",
    "import time\n",
    "import os\n",
    "\n",
    "models = {\n",
    "    \"SpacyStatic_noSW_noAlpha\": SpacyStaticModel(),\n",
    "    \"SpacyStatic2_noAlpha\": SpacyStaticModel(remove_stopwords=False),\n",
    "    \"SpacyStatic3_noSW\": SpacyStaticModel(remove_noalpha=False),\n",
    "    \"SpacyStatic4\": SpacyStaticModel(remove_stopwords=False, remove_noalpha=False),\n",
    "    \"BETO\": BetoEmbeddingModel(),\n",
    "    \"BETOCLS\": BetoEmbeddingCLSModel(),\n",
    "    \"Sentence-BERT\": SentenceBertEmbeddingModel()\n",
    "}\n",
    "\n",
    "with open(os.path.join(base_path, \"frases.txt\")) as fh:\n",
    "    texts = fh.read().splitlines()\n",
    "\n",
    "for name, model in models.items():\n",
    "    t0 = time.time()\n",
    "    print(f\"Indexing text using {name} ...\", end='')\n",
    "    model.fit(texts)  # Generar embeddings y construir el KDTree\n",
    "    t1 = time.time() - t0\n",
    "    print(f\"done in {t1:0.3} seconds\\n\")\n",
    "\n",
    "query = input(\"Querry:\")\n",
    "while len(query) > 0:\n",
    "    # Consulta\n",
    "    top_k = 3\n",
    "    for model_name, model in models.items():\n",
    "        print(f\"\\nResults with {model_name}:\")\n",
    "        results = model.query(query, top_k)\n",
    "        for distance, indx in results:\n",
    "            print(f\"  Phrase: {texts[indx]} | Distance: {distance:.4f}\")\n",
    "    query = input(\"\\n\\nQuerry:\")\n"
   ]
  },
  {
   "cell_type": "code",
   "execution_count": null,
   "id": "dcf6e6e7-694f-4ed8-a2b0-543e66613d5c",
   "metadata": {
    "id": "dcf6e6e7-694f-4ed8-a2b0-543e66613d5c"
   },
   "outputs": [],
   "source": []
  }
 ],
 "metadata": {
  "accelerator": "GPU",
  "colab": {
   "gpuType": "T4",
   "provenance": []
  },
  "kernelspec": {
   "display_name": "Python 3 (ipykernel)",
   "language": "python",
   "name": "python3"
  },
  "language_info": {
   "codemirror_mode": {
    "name": "ipython",
    "version": 3
   },
   "file_extension": ".py",
   "mimetype": "text/x-python",
   "name": "python",
   "nbconvert_exporter": "python",
   "pygments_lexer": "ipython3",
   "version": "3.12.9"
  }
 },
 "nbformat": 4,
 "nbformat_minor": 5
}
